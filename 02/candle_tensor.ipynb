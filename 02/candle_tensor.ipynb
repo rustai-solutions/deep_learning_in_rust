{
 "cells": [
  {
   "cell_type": "code",
   "execution_count": 5,
   "id": "65ab90cf-9d64-4135-b2e0-98052d5d764f",
   "metadata": {},
   "outputs": [],
   "source": [
    ":dep candle-core=\"0.3.2\""
   ]
  },
  {
   "cell_type": "code",
   "execution_count": 139,
   "id": "fa5ff52d-02ba-4c20-97a7-11676c198ccc",
   "metadata": {},
   "outputs": [],
   "source": [
    "use candle_core::{Tensor, DType, Device};\n",
    "use candle_core::IndexOp;"
   ]
  },
  {
   "cell_type": "code",
   "execution_count": 69,
   "id": "b4ae5c28-4787-4341-a74b-2ef112015ce8",
   "metadata": {},
   "outputs": [],
   "source": [
    "// === Vector"
   ]
  },
  {
   "cell_type": "code",
   "execution_count": 22,
   "id": "3c8f8041-48e3-4af3-ad52-5be9b98334bf",
   "metadata": {},
   "outputs": [],
   "source": [
    "let a = Tensor::arange(1f32, 7f32, &Device::Cpu)?;\n",
    "let b = Tensor::arange(7f32, 13f32, &Device::Cpu)?;"
   ]
  },
  {
   "cell_type": "code",
   "execution_count": 60,
   "id": "9f3a0182-b0ae-48b0-b564-f4a2687969ba",
   "metadata": {},
   "outputs": [
    {
     "data": {
      "text/plain": [
       "Tensor[1, 2, 3, 4, 5, 6; f32]"
      ]
     },
     "execution_count": 60,
     "metadata": {},
     "output_type": "execute_result"
    }
   ],
   "source": [
    "a"
   ]
  },
  {
   "cell_type": "code",
   "execution_count": 61,
   "id": "54184637-4763-4a3b-a5bb-f65e702098d1",
   "metadata": {},
   "outputs": [
    {
     "data": {
      "text/plain": [
       "Tensor[7, 8, 9, 10, 11, 12; f32]"
      ]
     },
     "execution_count": 61,
     "metadata": {},
     "output_type": "execute_result"
    }
   ],
   "source": [
    "b"
   ]
  },
  {
   "cell_type": "code",
   "execution_count": 25,
   "id": "1ca2f929-7f72-498d-81cf-9dedb7f84754",
   "metadata": {},
   "outputs": [
    {
     "data": {
      "text/plain": [
       "Ok(Tensor[8, 10, 12, 14, 16, 18; f32])"
      ]
     },
     "execution_count": 25,
     "metadata": {},
     "output_type": "execute_result"
    }
   ],
   "source": [
    "&a + &b"
   ]
  },
  {
   "cell_type": "code",
   "execution_count": 26,
   "id": "0829e1ea-d1e1-4395-8f12-5ff6d90e53f0",
   "metadata": {},
   "outputs": [
    {
     "data": {
      "text/plain": [
       "Ok(Tensor[-6, -6, -6, -6, -6, -6; f32])"
      ]
     },
     "execution_count": 26,
     "metadata": {},
     "output_type": "execute_result"
    }
   ],
   "source": [
    "&a - &b"
   ]
  },
  {
   "cell_type": "code",
   "execution_count": 27,
   "id": "1fcf33ba-5c68-4d00-a3a7-0d1579b57be9",
   "metadata": {},
   "outputs": [
    {
     "data": {
      "text/plain": [
       "Ok(Tensor[6, 6, 6, 6, 6, 6; f32])"
      ]
     },
     "execution_count": 27,
     "metadata": {},
     "output_type": "execute_result"
    }
   ],
   "source": [
    "&b - &a"
   ]
  },
  {
   "cell_type": "code",
   "execution_count": 28,
   "id": "11e59317-975c-42cc-884e-0618368024ef",
   "metadata": {},
   "outputs": [
    {
     "data": {
      "text/plain": [
       "Ok(Tensor[7, 16, 27, 40, 55, 72; f32])"
      ]
     },
     "execution_count": 28,
     "metadata": {},
     "output_type": "execute_result"
    }
   ],
   "source": [
    "&a * &b"
   ]
  },
  {
   "cell_type": "code",
   "execution_count": 29,
   "id": "2bd81edd-f084-4bff-b1b9-a7081fd6de3d",
   "metadata": {},
   "outputs": [
    {
     "data": {
      "text/plain": [
       "Ok(Tensor[0.14285715, 0.25, 0.33333334, 0.4, 0.45454547, 0.5; f32])"
      ]
     },
     "execution_count": 29,
     "metadata": {},
     "output_type": "execute_result"
    }
   ],
   "source": [
    "&a / &b"
   ]
  },
  {
   "cell_type": "code",
   "execution_count": 35,
   "id": "7faf85ea-39a3-4378-9664-19f322565681",
   "metadata": {},
   "outputs": [
    {
     "data": {
      "text/plain": [
       "Ok(Tensor[0.5403023, -0.41614684, -0.9899925, -0.6536436, 0.2836622, 0.96017027; f32])"
      ]
     },
     "execution_count": 35,
     "metadata": {},
     "output_type": "execute_result"
    }
   ],
   "source": [
    "&a.cos()"
   ]
  },
  {
   "cell_type": "code",
   "execution_count": 36,
   "id": "f2c5c230-0f9b-4539-871c-3832b5d4c740",
   "metadata": {},
   "outputs": [
    {
     "data": {
      "text/plain": [
       "Ok(Tensor[0.84147096, 0.9092974, 0.14112, -0.7568025, -0.9589243, -0.2794155; f32])"
      ]
     },
     "execution_count": 36,
     "metadata": {},
     "output_type": "execute_result"
    }
   ],
   "source": [
    "&a.sin()"
   ]
  },
  {
   "cell_type": "code",
   "execution_count": 37,
   "id": "f6446569-242a-4d45-b8cc-be79e5d4d670",
   "metadata": {},
   "outputs": [
    {
     "data": {
      "text/plain": [
       "Ok(Tensor[0, 0.6931472, 1.0986123, 1.3862944, 1.609438, 1.7917595; f32])"
      ]
     },
     "execution_count": 37,
     "metadata": {},
     "output_type": "execute_result"
    }
   ],
   "source": [
    "&a.log()"
   ]
  },
  {
   "cell_type": "code",
   "execution_count": 38,
   "id": "b18d93cf-2e6d-4cc3-9ca6-f47088f84a01",
   "metadata": {},
   "outputs": [
    {
     "data": {
      "text/plain": [
       "Ok(Tensor[1, 4, 9, 16, 25, 36; f32])"
      ]
     },
     "execution_count": 38,
     "metadata": {},
     "output_type": "execute_result"
    }
   ],
   "source": [
    "&a.sqr()"
   ]
  },
  {
   "cell_type": "code",
   "execution_count": 39,
   "id": "475c81dc-e565-4790-9542-d155402a8e24",
   "metadata": {},
   "outputs": [
    {
     "data": {
      "text/plain": [
       "Ok(Tensor[1, 1.4142135, 1.7320508, 2, 2.236068, 2.4494898; f32])"
      ]
     },
     "execution_count": 39,
     "metadata": {},
     "output_type": "execute_result"
    }
   ],
   "source": [
    "&a.sqrt()"
   ]
  },
  {
   "cell_type": "code",
   "execution_count": 40,
   "id": "4017844b-1845-4a0b-9d13-815bbe592b57",
   "metadata": {},
   "outputs": [
    {
     "data": {
      "text/plain": [
       "Ok(Tensor[2.7182817, 7.389056, 20.085537, 54.59815, 148.41316, 403.4288; f32])"
      ]
     },
     "execution_count": 40,
     "metadata": {},
     "output_type": "execute_result"
    }
   ],
   "source": [
    "&a.exp()"
   ]
  },
  {
   "cell_type": "code",
   "execution_count": 289,
   "id": "2c5c6d0f-6a79-4375-9b09-7fe42d4b111e",
   "metadata": {},
   "outputs": [
    {
     "data": {
      "text/plain": [
       "Ok(Tensor[3, 4, 5, 6, 7, 8; f32])"
      ]
     },
     "execution_count": 289,
     "metadata": {},
     "output_type": "execute_result"
    }
   ],
   "source": [
    "&a + 2f64"
   ]
  },
  {
   "cell_type": "code",
   "execution_count": 290,
   "id": "5b608536-1a1b-4482-88a0-d631ad305a05",
   "metadata": {},
   "outputs": [
    {
     "data": {
      "text/plain": [
       "Ok(Tensor[-1, 0, 1, 2, 3, 4; f32])"
      ]
     },
     "execution_count": 290,
     "metadata": {},
     "output_type": "execute_result"
    }
   ],
   "source": [
    "&a - 2f64"
   ]
  },
  {
   "cell_type": "code",
   "execution_count": 291,
   "id": "ee1c66e9-5ab3-4003-8fa0-6ae0a5adac87",
   "metadata": {},
   "outputs": [
    {
     "data": {
      "text/plain": [
       "Ok(Tensor[2, 4, 6, 8, 10, 12; f32])"
      ]
     },
     "execution_count": 291,
     "metadata": {},
     "output_type": "execute_result"
    }
   ],
   "source": [
    "&a * 2f64"
   ]
  },
  {
   "cell_type": "code",
   "execution_count": 297,
   "id": "5729766d-e6f8-41de-a7fe-5f87b893bcca",
   "metadata": {},
   "outputs": [
    {
     "data": {
      "text/plain": [
       "Ok(Tensor[0.5, 1, 1.5, 2, 2.5, 3; f32])"
      ]
     },
     "execution_count": 297,
     "metadata": {},
     "output_type": "execute_result"
    }
   ],
   "source": [
    "&a / 2f64"
   ]
  },
  {
   "cell_type": "code",
   "execution_count": 323,
   "id": "1d37d58e-79f3-46ed-8e22-de1c9375e097",
   "metadata": {},
   "outputs": [
    {
     "name": "stdout",
     "output_type": "stream",
     "text": [
      "[217.]\n",
      "Tensor[[], f32]\n"
     ]
    }
   ],
   "source": [
    "let s_ = (&a * &b)?.sum_all()?;\n",
    "println!(\"{}\", s_);"
   ]
  },
  {
   "cell_type": "code",
   "execution_count": 305,
   "id": "3402e3f3-15b3-40d8-8c47-ac6da795171b",
   "metadata": {},
   "outputs": [
    {
     "name": "stdout",
     "output_type": "stream",
     "text": [
      "[[1., 2., 3., 4., 5., 6.]]\n",
      "Tensor[[1, 6], f32]\n"
     ]
    }
   ],
   "source": [
    "let c = a.reshape((1, ()))?;\n",
    "println!(\"{}\", c);"
   ]
  },
  {
   "cell_type": "code",
   "execution_count": 304,
   "id": "5a2a5ed1-9747-4974-8838-2de260925010",
   "metadata": {},
   "outputs": [
    {
     "name": "stdout",
     "output_type": "stream",
     "text": [
      "[[ 7.],\n",
      " [ 8.],\n",
      " [ 9.],\n",
      " [10.],\n",
      " [11.],\n",
      " [12.]]\n",
      "Tensor[[6, 1], f32]\n"
     ]
    }
   ],
   "source": [
    "let d = b.reshape(((), 1))?;\n",
    "println!(\"{}\", d);"
   ]
  },
  {
   "cell_type": "code",
   "execution_count": 306,
   "id": "22e04075-1f4f-44e7-8fcb-34fd5718dff7",
   "metadata": {},
   "outputs": [
    {
     "name": "stdout",
     "output_type": "stream",
     "text": [
      "[[217.]]\n",
      "Tensor[[1, 1], f32]\n"
     ]
    }
   ],
   "source": [
    "let e = c.matmul(&d)?;\n",
    "println!(\"{}\", e);"
   ]
  },
  {
   "cell_type": "code",
   "execution_count": 140,
   "id": "568ffd58-79a1-4fe0-a0cf-26ad51c35a0f",
   "metadata": {},
   "outputs": [
    {
     "data": {
      "text/plain": [
       "Tensor[217; f32]"
      ]
     },
     "execution_count": 140,
     "metadata": {},
     "output_type": "execute_result"
    }
   ],
   "source": [
    "e.i((0, 0))?"
   ]
  },
  {
   "cell_type": "code",
   "execution_count": 308,
   "id": "a0df602c-e405-475b-be44-1465e48d81af",
   "metadata": {},
   "outputs": [
    {
     "name": "stdout",
     "output_type": "stream",
     "text": [
      "[[ 7., 14., 21., 28., 35., 42.],\n",
      " [ 8., 16., 24., 32., 40., 48.],\n",
      " [ 9., 18., 27., 36., 45., 54.],\n",
      " [10., 20., 30., 40., 50., 60.],\n",
      " [11., 22., 33., 44., 55., 66.],\n",
      " [12., 24., 36., 48., 60., 72.]]\n",
      "Tensor[[6, 6], f32]\n"
     ]
    }
   ],
   "source": [
    "let f = d.matmul(&c)?;\n",
    "println!(\"{}\", f);"
   ]
  },
  {
   "cell_type": "code",
   "execution_count": 309,
   "id": "858f8db7-e204-4e16-9b6f-2d792f8cbe8b",
   "metadata": {},
   "outputs": [
    {
     "name": "stdout",
     "output_type": "stream",
     "text": [
      "[[1., 2., 3., 4., 5., 6.]]\n",
      "Tensor[[1, 6], f32]\n"
     ]
    }
   ],
   "source": [
    "let c_ = a.unsqueeze(0)?;\n",
    "println!(\"{}\", c_);"
   ]
  },
  {
   "cell_type": "code",
   "execution_count": 310,
   "id": "d5675007-a9b0-4b7c-ad0d-6504805b694e",
   "metadata": {},
   "outputs": [
    {
     "name": "stdout",
     "output_type": "stream",
     "text": [
      "[[1, 1, 1, 1, 1, 1]]\n",
      "Tensor[[1, 6], u8]\n"
     ]
    }
   ],
   "source": [
    "let r_ = c_.eq(&c)?;\n",
    "println!(\"{}\", r_);"
   ]
  },
  {
   "cell_type": "code",
   "execution_count": 312,
   "id": "5917ebdb-d0f8-4ca8-8b1b-55ed5be8c17d",
   "metadata": {},
   "outputs": [
    {
     "name": "stdout",
     "output_type": "stream",
     "text": [
      "[1., 2., 3., 4., 5., 6.]\n",
      "Tensor[[6], f32]\n"
     ]
    }
   ],
   "source": [
    "let c1_ = c_.squeeze(0)?;\n",
    "println!(\"{}\", c1_);"
   ]
  },
  {
   "cell_type": "code",
   "execution_count": 313,
   "id": "ff34069c-9d8a-4539-a80a-6ff37c0efd34",
   "metadata": {},
   "outputs": [
    {
     "name": "stdout",
     "output_type": "stream",
     "text": [
      "[[1., 2., 3., 4., 5., 6.]]\n",
      "Tensor[[1, 6], f32]\n"
     ]
    }
   ],
   "source": [
    "let c1_ = c_.squeeze(1)?;\n",
    "println!(\"{}\", c1_);"
   ]
  },
  {
   "cell_type": "code",
   "execution_count": 314,
   "id": "3870b140-3430-477c-9b5f-784892ccb36c",
   "metadata": {},
   "outputs": [
    {
     "name": "stdout",
     "output_type": "stream",
     "text": [
      "[21.]\n",
      "Tensor[[], f32]\n"
     ]
    }
   ],
   "source": [
    "let s1 = a.sum(0)?;\n",
    "println!(\"{}\", s1);"
   ]
  },
  {
   "cell_type": "code",
   "execution_count": 315,
   "id": "90934810-79f2-492f-8c7f-6d4f88234aed",
   "metadata": {},
   "outputs": [
    {
     "name": "stdout",
     "output_type": "stream",
     "text": [
      "[21.]\n",
      "Tensor[[], f32]\n"
     ]
    }
   ],
   "source": [
    "let s1 = a.sum_all()?;\n",
    "println!(\"{}\", s1);"
   ]
  },
  {
   "cell_type": "code",
   "execution_count": 316,
   "id": "d347a553-5eb0-41e3-9460-db9693a5d189",
   "metadata": {},
   "outputs": [
    {
     "name": "stdout",
     "output_type": "stream",
     "text": [
      "[21.]\n",
      "Tensor[[1], f32]\n"
     ]
    }
   ],
   "source": [
    "let s1 = a.sum_keepdim(0)?;\n",
    "println!(\"{}\", s1);"
   ]
  },
  {
   "cell_type": "code",
   "execution_count": 317,
   "id": "c095017c-fdcb-46b0-b5b2-437e595991b3",
   "metadata": {},
   "outputs": [
    {
     "name": "stdout",
     "output_type": "stream",
     "text": [
      "[1., 2., 3., 4., 5., 6.]\n",
      "Tensor[[6], f32]\n"
     ]
    }
   ],
   "source": [
    "let s1 = c.sum(0)?;\n",
    "println!(\"{}\", s1);"
   ]
  },
  {
   "cell_type": "code",
   "execution_count": 318,
   "id": "b9e532ea-2741-4a44-a2e8-38f1525bd525",
   "metadata": {},
   "outputs": [
    {
     "name": "stdout",
     "output_type": "stream",
     "text": [
      "[21.]\n",
      "Tensor[[1], f32]\n"
     ]
    }
   ],
   "source": [
    "let s1 = c.sum(1)?;\n",
    "println!(\"{}\", s1);"
   ]
  },
  {
   "cell_type": "code",
   "execution_count": 319,
   "id": "da9b4aa8-60e0-4ed1-8f43-6526913c4616",
   "metadata": {},
   "outputs": [
    {
     "name": "stdout",
     "output_type": "stream",
     "text": [
      "[21.]\n",
      "Tensor[[], f32]\n"
     ]
    }
   ],
   "source": [
    "let s1 = c.sum_all()?;\n",
    "println!(\"{}\", s1);"
   ]
  },
  {
   "cell_type": "code",
   "execution_count": 320,
   "id": "1a773a92-e8c6-40c4-800c-5da3d72c0608",
   "metadata": {},
   "outputs": [
    {
     "name": "stdout",
     "output_type": "stream",
     "text": [
      "[[1., 2., 3., 4., 5., 6.]]\n",
      "Tensor[[1, 6], f32]\n"
     ]
    }
   ],
   "source": [
    "let s1 = c.sum_keepdim(0)?;\n",
    "println!(\"{}\", s1);"
   ]
  },
  {
   "cell_type": "code",
   "execution_count": 321,
   "id": "926b05b6-d3df-481c-bf2b-f21d5b81eca7",
   "metadata": {},
   "outputs": [
    {
     "name": "stdout",
     "output_type": "stream",
     "text": [
      "[[21.]]\n",
      "Tensor[[1, 1], f32]\n"
     ]
    }
   ],
   "source": [
    "let s1 = c.sum_keepdim(1)?;\n",
    "println!(\"{}\", s1);"
   ]
  },
  {
   "cell_type": "code",
   "execution_count": 295,
   "id": "6a241731-f2d5-4d50-a29c-727bd63ac29e",
   "metadata": {},
   "outputs": [
    {
     "name": "stdout",
     "output_type": "stream",
     "text": [
      "[[21.]]\n",
      "Tensor[[1, 1], f32]\n"
     ]
    }
   ],
   "source": [
    "println!(\"{}\", s1);"
   ]
  },
  {
   "cell_type": "code",
   "execution_count": 157,
   "id": "7f3d5972-18c8-461d-a759-e4d05a8f8e57",
   "metadata": {},
   "outputs": [],
   "source": [
    "//====== Matrix"
   ]
  },
  {
   "cell_type": "code",
   "execution_count": 281,
   "id": "c8aa7d90-09f4-4c59-9830-0a5ca8ff094e",
   "metadata": {},
   "outputs": [],
   "source": [
    "let m1 = Tensor::arange(1f32, 13f32, &Device::Cpu)?.reshape((3, 4))?;\n",
    "let m2 = Tensor::arange(13f32, 25f32, &Device::Cpu)?.reshape((3, 4))?;"
   ]
  },
  {
   "cell_type": "code",
   "execution_count": 324,
   "id": "f7bf52ea-2136-410b-a7bc-3f657606d87c",
   "metadata": {},
   "outputs": [
    {
     "name": "stdout",
     "output_type": "stream",
     "text": [
      "[[ 1.,  2.,  3.,  4.],\n",
      " [ 5.,  6.,  7.,  8.],\n",
      " [ 9., 10., 11., 12.]]\n",
      "Tensor[[3, 4], f32]\n"
     ]
    }
   ],
   "source": [
    "println!(\"{}\", m1);"
   ]
  },
  {
   "cell_type": "code",
   "execution_count": 325,
   "id": "9ba405cd-7dda-43eb-912a-a4ff375dd1f8",
   "metadata": {},
   "outputs": [
    {
     "name": "stdout",
     "output_type": "stream",
     "text": [
      "[[13., 14., 15., 16.],\n",
      " [17., 18., 19., 20.],\n",
      " [21., 22., 23., 24.]]\n",
      "Tensor[[3, 4], f32]\n"
     ]
    }
   ],
   "source": [
    "println!(\"{}\", m2);"
   ]
  },
  {
   "cell_type": "code",
   "execution_count": 327,
   "id": "5dd5cf19-8a63-46ba-b9c6-d06a91af60ee",
   "metadata": {},
   "outputs": [
    {
     "name": "stdout",
     "output_type": "stream",
     "text": [
      "[[14., 16., 18., 20.],\n",
      " [22., 24., 26., 28.],\n",
      " [30., 32., 34., 36.]]\n",
      "Tensor[[3, 4], f32]\n"
     ]
    }
   ],
   "source": [
    "println!(\"{}\", (&m1 + &m2)?);"
   ]
  },
  {
   "cell_type": "code",
   "execution_count": 328,
   "id": "1432b396-c13b-4ffe-8556-1038215537c5",
   "metadata": {},
   "outputs": [
    {
     "name": "stdout",
     "output_type": "stream",
     "text": [
      "[[-12., -12., -12., -12.],\n",
      " [-12., -12., -12., -12.],\n",
      " [-12., -12., -12., -12.]]\n",
      "Tensor[[3, 4], f32]\n"
     ]
    }
   ],
   "source": [
    "println!(\"{}\", (&m1 - &m2)?);"
   ]
  },
  {
   "cell_type": "code",
   "execution_count": 329,
   "id": "13ae242e-13f4-433e-80b3-24fe393d6e35",
   "metadata": {},
   "outputs": [
    {
     "name": "stdout",
     "output_type": "stream",
     "text": [
      "[[ 13.,  28.,  45.,  64.],\n",
      " [ 85., 108., 133., 160.],\n",
      " [189., 220., 253., 288.]]\n",
      "Tensor[[3, 4], f32]\n"
     ]
    }
   ],
   "source": [
    "println!(\"{}\", (&m1 * &m2)?);"
   ]
  },
  {
   "cell_type": "code",
   "execution_count": 330,
   "id": "c99ce38c-dc21-4d2f-8405-9d147057b3f3",
   "metadata": {},
   "outputs": [
    {
     "name": "stdout",
     "output_type": "stream",
     "text": [
      "[[0.0769, 0.1429, 0.2000, 0.2500],\n",
      " [0.2941, 0.3333, 0.3684, 0.4000],\n",
      " [0.4286, 0.4545, 0.4783, 0.5000]]\n",
      "Tensor[[3, 4], f32]\n"
     ]
    }
   ],
   "source": [
    "println!(\"{}\", (&m1 / &m2)?);"
   ]
  },
  {
   "cell_type": "code",
   "execution_count": 331,
   "id": "3ce2dd46-5e7d-4f9d-b813-1c4475dc5028",
   "metadata": {},
   "outputs": [
    {
     "name": "stdout",
     "output_type": "stream",
     "text": [
      "[[1.0000, 1.4142, 1.7321, 2.0000],\n",
      " [2.2361, 2.4495, 2.6458, 2.8284],\n",
      " [3.0000, 3.1623, 3.3166, 3.4641]]\n",
      "Tensor[[3, 4], f32]\n"
     ]
    }
   ],
   "source": [
    "println!(\"{}\", m1.sqrt()?);"
   ]
  },
  {
   "cell_type": "code",
   "execution_count": 332,
   "id": "0afec8fa-e91f-4501-b3eb-4bf32670d610",
   "metadata": {},
   "outputs": [
    {
     "name": "stdout",
     "output_type": "stream",
     "text": [
      "[[2.7183e0, 7.3891e0, 2.0086e1, 5.4598e1],\n",
      " [1.4841e2, 4.0343e2, 1.0966e3, 2.9810e3],\n",
      " [8.1031e3, 2.2026e4, 5.9874e4, 1.6275e5]]\n",
      "Tensor[[3, 4], f32]\n"
     ]
    }
   ],
   "source": [
    "println!(\"{}\", m1.exp()?);"
   ]
  },
  {
   "cell_type": "code",
   "execution_count": 333,
   "id": "90c9f71a-53fc-4ef1-8bc2-f94149e033f8",
   "metadata": {},
   "outputs": [
    {
     "name": "stdout",
     "output_type": "stream",
     "text": [
      "[[0.0000, 0.6931, 1.0986, 1.3863],\n",
      " [1.6094, 1.7918, 1.9459, 2.0794],\n",
      " [2.1972, 2.3026, 2.3979, 2.4849]]\n",
      "Tensor[[3, 4], f32]\n"
     ]
    }
   ],
   "source": [
    "println!(\"{}\", m1.log()?);"
   ]
  },
  {
   "cell_type": "code",
   "execution_count": 335,
   "id": "2bc308a3-6609-4146-870a-be5795d09225",
   "metadata": {},
   "outputs": [
    {
     "name": "stdout",
     "output_type": "stream",
     "text": [
      "[[ 3.,  4.,  5.,  6.],\n",
      " [ 7.,  8.,  9., 10.],\n",
      " [11., 12., 13., 14.]]\n",
      "Tensor[[3, 4], f32]\n"
     ]
    }
   ],
   "source": [
    "println!(\"{}\", (&m1 + 2f64)?);"
   ]
  },
  {
   "cell_type": "code",
   "execution_count": 336,
   "id": "b2e81302-4feb-4b86-94be-e6355347d703",
   "metadata": {},
   "outputs": [
    {
     "name": "stdout",
     "output_type": "stream",
     "text": [
      "[[-1.,  0.,  1.,  2.],\n",
      " [ 3.,  4.,  5.,  6.],\n",
      " [ 7.,  8.,  9., 10.]]\n",
      "Tensor[[3, 4], f32]\n"
     ]
    }
   ],
   "source": [
    "println!(\"{}\", (&m1 - 2f64)?);"
   ]
  },
  {
   "cell_type": "code",
   "execution_count": 337,
   "id": "de92a74b-a21d-4990-9897-e56446db51f7",
   "metadata": {},
   "outputs": [
    {
     "name": "stdout",
     "output_type": "stream",
     "text": [
      "[[ 2.,  4.,  6.,  8.],\n",
      " [10., 12., 14., 16.],\n",
      " [18., 20., 22., 24.]]\n",
      "Tensor[[3, 4], f32]\n"
     ]
    }
   ],
   "source": [
    "println!(\"{}\", (&m1 * 2f64)?);"
   ]
  },
  {
   "cell_type": "code",
   "execution_count": 338,
   "id": "55e58046-5891-48b0-9895-e0be0f3cb719",
   "metadata": {},
   "outputs": [
    {
     "name": "stdout",
     "output_type": "stream",
     "text": [
      "[[0.5000, 1.0000, 1.5000, 2.0000],\n",
      " [2.5000, 3.0000, 3.5000, 4.0000],\n",
      " [4.5000, 5.0000, 5.5000, 6.0000]]\n",
      "Tensor[[3, 4], f32]\n"
     ]
    }
   ],
   "source": [
    "println!(\"{}\", (&m1 / 2f64)?);"
   ]
  },
  {
   "cell_type": "code",
   "execution_count": 334,
   "id": "ce6098eb-c789-4481-b335-fa21b6403eeb",
   "metadata": {},
   "outputs": [
    {
     "name": "stdout",
     "output_type": "stream",
     "text": [
      "[[ 1.,  2.,  3.,  4.],\n",
      " [ 5.,  6.,  7.,  8.],\n",
      " [ 9., 10., 11., 12.]]\n",
      "Tensor[[3, 4], f32]\n",
      "[[13., 14., 15.],\n",
      " [16., 17., 18.],\n",
      " [19., 20., 21.],\n",
      " [22., 23., 24.]]\n",
      "Tensor[[4, 3], f32]\n"
     ]
    }
   ],
   "source": [
    "let m1 = Tensor::arange(1f32, 13f32, &Device::Cpu)?.reshape((3, 4))?;\n",
    "let m2 = Tensor::arange(13f32, 25f32, &Device::Cpu)?.reshape((4, 3))?;\n",
    "println!(\"{}\", m1);\n",
    "println!(\"{}\", m2);"
   ]
  },
  {
   "cell_type": "code",
   "execution_count": 339,
   "id": "bba94aef-d752-4b4f-bfc9-e094fd4464c3",
   "metadata": {},
   "outputs": [
    {
     "name": "stdout",
     "output_type": "stream",
     "text": [
      "[[190., 200., 210.],\n",
      " [470., 496., 522.],\n",
      " [750., 792., 834.]]\n",
      "Tensor[[3, 3], f32]\n"
     ]
    }
   ],
   "source": [
    "let m_ = m1.matmul(&m2)?;\n",
    "println!(\"{}\", m_);"
   ]
  },
  {
   "cell_type": "code",
   "execution_count": 341,
   "id": "8a9b92ef-5935-4d17-ad57-9902b31c3a9d",
   "metadata": {},
   "outputs": [
    {
     "name": "stdout",
     "output_type": "stream",
     "text": [
      "[[4.2205],\n",
      " [5.8480],\n",
      " [8.6247],\n",
      " [4.4578]]\n",
      "Tensor[[4, 1], f32]\n"
     ]
    }
   ],
   "source": [
    "let v1 = Tensor::rand(0f32, 10f32, (4, 1), &Device::Cpu)?;\n",
    "println!(\"{}\", v1);"
   ]
  },
  {
   "cell_type": "code",
   "execution_count": 342,
   "id": "b013f6e0-f9ed-43c5-8fab-656bec355f58",
   "metadata": {},
   "outputs": [
    {
     "name": "stdout",
     "output_type": "stream",
     "text": [
      "[[ 59.6220],\n",
      " [152.2263],\n",
      " [244.8306]]\n",
      "Tensor[[3, 1], f32]\n"
     ]
    }
   ],
   "source": [
    "let m_ = m1.matmul(&v1)?;\n",
    "println!(\"{}\", m_);"
   ]
  },
  {
   "cell_type": "code",
   "execution_count": 343,
   "id": "d895a0a6-5000-4d64-8bf8-c28db156397e",
   "metadata": {},
   "outputs": [
    {
     "name": "stderr",
     "output_type": "stream",
     "text": [
      "shape mismatch in matmul, lhs: [4, 1], rhs: [3, 4]\n",
      "   0: <unknown>\n",
      "   1: <unknown>\n",
      "   2: <unknown>\n",
      "   3: <unknown>\n",
      "   4: evcxr::runtime::Runtime::run_loop\n",
      "   5: evcxr::runtime::runtime_hook\n",
      "   6: evcxr_jupyter::main\n",
      "   7: std::sys_common::backtrace::__rust_begin_short_backtrace\n",
      "   8: std::rt::lang_start::{{closure}}\n",
      "   9: core::ops::function::impls::<impl core::ops::function::FnOnce<A> for &F>::call_once\n",
      "             at /rustc/82e1608dfa6e0b5569232559e3d385fea5a93112/library/core/src/ops/function.rs:284:13\n",
      "  10: std::panicking::try::do_call\n",
      "             at /rustc/82e1608dfa6e0b5569232559e3d385fea5a93112/library/std/src/panicking.rs:552:40\n",
      "  11: std::panicking::try\n",
      "             at /rustc/82e1608dfa6e0b5569232559e3d385fea5a93112/library/std/src/panicking.rs:516:19\n",
      "  12: std::panic::catch_unwind\n",
      "             at /rustc/82e1608dfa6e0b5569232559e3d385fea5a93112/library/std/src/panic.rs:142:14\n",
      "  13: std::rt::lang_start_internal::{{closure}}\n",
      "             at /rustc/82e1608dfa6e0b5569232559e3d385fea5a93112/library/std/src/rt.rs:148:48\n",
      "  14: std::panicking::try::do_call\n",
      "             at /rustc/82e1608dfa6e0b5569232559e3d385fea5a93112/library/std/src/panicking.rs:552:40\n",
      "  15: std::panicking::try\n",
      "             at /rustc/82e1608dfa6e0b5569232559e3d385fea5a93112/library/std/src/panicking.rs:516:19\n",
      "  16: std::panic::catch_unwind\n",
      "             at /rustc/82e1608dfa6e0b5569232559e3d385fea5a93112/library/std/src/panic.rs:142:14\n",
      "  17: std::rt::lang_start_internal\n",
      "             at /rustc/82e1608dfa6e0b5569232559e3d385fea5a93112/library/std/src/rt.rs:148:20\n",
      "  18: std::rt::lang_start\n",
      "  19: <unknown>\n",
      "  20: __libc_start_main\n",
      "  21: _start\n",
      "\n"
     ]
    }
   ],
   "source": [
    "let m_ = v1.matmul(&m1)?;\n",
    "println!(\"{}\", m_);"
   ]
  },
  {
   "cell_type": "code",
   "execution_count": 344,
   "id": "e028e5a8-89d9-40e6-8f98-5dfbea512760",
   "metadata": {},
   "outputs": [
    {
     "name": "stdout",
     "output_type": "stream",
     "text": [
      "[[ 1.,  5.,  9.],\n",
      " [ 2.,  6., 10.],\n",
      " [ 3.,  7., 11.],\n",
      " [ 4.,  8., 12.]]\n",
      "Tensor[[4, 3], f32]\n"
     ]
    }
   ],
   "source": [
    "let m3 = m1.t()?;\n",
    "println!(\"{}\", m3);"
   ]
  },
  {
   "cell_type": "code",
   "execution_count": 345,
   "id": "870c205d-5250-48c4-ad04-e52eb3660137",
   "metadata": {},
   "outputs": [
    {
     "name": "stdout",
     "output_type": "stream",
     "text": [
      "[[13., 16., 19., 22.],\n",
      " [14., 17., 20., 23.],\n",
      " [15., 18., 21., 24.]]\n",
      "Tensor[[3, 4], f32]\n"
     ]
    }
   ],
   "source": [
    "let m4 = m2.t()?;\n",
    "println!(\"{}\", m4);"
   ]
  },
  {
   "cell_type": "code",
   "execution_count": 346,
   "id": "a70b3985-17b5-43ea-93e1-4e5f23a71809",
   "metadata": {},
   "outputs": [
    {
     "name": "stdout",
     "output_type": "stream",
     "text": [
      "[[190., 470., 750.],\n",
      " [200., 496., 792.],\n",
      " [210., 522., 834.]]\n",
      "Tensor[[3, 3], f32]\n"
     ]
    }
   ],
   "source": [
    "let m_ = m4.matmul(&m3)?;\n",
    "println!(\"{}\", m_);"
   ]
  },
  {
   "cell_type": "code",
   "execution_count": 347,
   "id": "bc070b16-5142-4692-8a1b-defac873efc1",
   "metadata": {},
   "outputs": [
    {
     "name": "stdout",
     "output_type": "stream",
     "text": [
      "[[42.4724],\n",
      " [20.4099],\n",
      " [27.3948],\n",
      " [13.7370]]\n",
      "Tensor[[4, 1], f32]\n"
     ]
    }
   ],
   "source": [
    "let v2 = v1.rand_like(0f64, 100f64)?;\n",
    "println!(\"{}\", v2);"
   ]
  },
  {
   "cell_type": "code",
   "execution_count": 348,
   "id": "681fc225-2cc7-4e97-ad68-03ae1b9322b6",
   "metadata": {},
   "outputs": [
    {
     "name": "stdout",
     "output_type": "stream",
     "text": [
      "[[ 0.1549, -0.0748,  0.2079,  0.1592,  0.0347],\n",
      " [ 0.0033, -0.1523, -0.0807,  0.1331,  0.0603],\n",
      " [-0.0091,  0.0408,  0.2061,  0.0524,  0.0351],\n",
      " [ 0.0317,  0.0054, -0.0845, -0.0087, -0.0352],\n",
      " [-0.1379, -0.0550, -0.1521,  0.0043, -0.0230]]\n",
      "Tensor[[5, 5], f32]\n"
     ]
    }
   ],
   "source": [
    "let mn = Tensor::randn(0f32, 0.1f32, (5, 5), &Device::Cpu)?;\n",
    "println!(\"{}\", mn);"
   ]
  }
 ],
 "metadata": {
  "kernelspec": {
   "display_name": "Rust",
   "language": "rust",
   "name": "rust"
  },
  "language_info": {
   "codemirror_mode": "rust",
   "file_extension": ".rs",
   "mimetype": "text/rust",
   "name": "Rust",
   "pygment_lexer": "rust",
   "version": ""
  }
 },
 "nbformat": 4,
 "nbformat_minor": 5
}
