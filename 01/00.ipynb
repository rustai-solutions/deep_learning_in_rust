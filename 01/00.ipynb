{
 "cells": [
  {
   "cell_type": "code",
   "execution_count": 4,
   "id": "d812706c-8ae9-4825-8545-65f2bfb513d6",
   "metadata": {},
   "outputs": [],
   "source": [
    ":dep ndarray = {version = \"0.15.6\"}\n",
    ":dep polars = {version = \"0.36.2\", features = [\"describe\", \"lazy\", \"ndarray\"]}\n",
    ":dep plotters = { version = \"0.3.5\", default_features = false, features = [\"evcxr\", \"all_series\", \"all_elements\"] }"
   ]
  },
  {
   "cell_type": "code",
   "execution_count": 5,
   "id": "bbf0779f-fe53-4a5f-8255-d1b30a562a6c",
   "metadata": {},
   "outputs": [
    {
     "data": {
      "text/plain": [
       "ndarray = {version = \"0.15.6\"}\n",
       "plotters = { version = \"0.3.5\", default_features = false, features = [\"evcxr\", \"all_series\", \"all_elements\"] }\n",
       "polars = {version = \"0.36.2\", features = [\"describe\", \"lazy\", \"ndarray\"]}\n"
      ]
     },
     "execution_count": 5,
     "metadata": {},
     "output_type": "execute_result"
    }
   ],
   "source": [
    ":show_deps"
   ]
  },
  {
   "cell_type": "code",
   "execution_count": 6,
   "id": "5bbba70b-9d3d-4d4a-86d2-9125e1baa3c6",
   "metadata": {},
   "outputs": [],
   "source": [
    "use polars::prelude::*;\n",
    "use polars::frame::DataFrame;\n",
    "use std::path::Path;"
   ]
  },
  {
   "cell_type": "code",
   "execution_count": 18,
   "id": "0edd380c-3835-41be-8b03-92fec633661d",
   "metadata": {},
   "outputs": [],
   "source": [
    "fn read_data_frame_from_csv(\n",
    "    csv_file_path: &Path,\n",
    ") -> DataFrame {\n",
    "    CsvReader::from_path(csv_file_path)\n",
    "        .expect(\"Cannot open file.\")\n",
    "        .has_header(true)\n",
    "        .finish()\n",
    "        .unwrap()\n",
    "}\n",
    "\n",
    "let iris_file_path: &Path = Path::new(\"dataset/Iris.csv\");\n",
    "let iris_df: DataFrame = read_data_frame_from_csv(iris_file_path);"
   ]
  },
  {
   "cell_type": "code",
   "execution_count": 5,
   "id": "97321b7e-17a7-417a-8219-173f7e485048",
   "metadata": {},
   "outputs": [
    {
     "name": "stdout",
     "output_type": "stream",
     "text": [
      "(150, 6)\n"
     ]
    }
   ],
   "source": [
    "println!(\"{:?}\", iris_df.shape());"
   ]
  },
  {
   "cell_type": "code",
   "execution_count": 19,
   "id": "d87af670-8a93-4674-ae8b-ef637ce068d8",
   "metadata": {},
   "outputs": [
    {
     "data": {
      "text/plain": [
       "shape: (5, 6)\n",
       "┌─────┬───────────────┬──────────────┬───────────────┬──────────────┬─────────────┐\n",
       "│ Id  ┆ SepalLengthCm ┆ SepalWidthCm ┆ PetalLengthCm ┆ PetalWidthCm ┆ Species     │\n",
       "│ --- ┆ ---           ┆ ---          ┆ ---           ┆ ---          ┆ ---         │\n",
       "│ i64 ┆ f64           ┆ f64          ┆ f64           ┆ f64          ┆ str         │\n",
       "╞═════╪═══════════════╪══════════════╪═══════════════╪══════════════╪═════════════╡\n",
       "│ 1   ┆ 5.1           ┆ 3.5          ┆ 1.4           ┆ 0.2          ┆ Iris-setosa │\n",
       "│ 2   ┆ 4.9           ┆ 3.0          ┆ 1.4           ┆ 0.2          ┆ Iris-setosa │\n",
       "│ 3   ┆ 4.7           ┆ 3.2          ┆ 1.3           ┆ 0.2          ┆ Iris-setosa │\n",
       "│ 4   ┆ 4.6           ┆ 3.1          ┆ 1.5           ┆ 0.2          ┆ Iris-setosa │\n",
       "│ 5   ┆ 5.0           ┆ 3.6          ┆ 1.4           ┆ 0.2          ┆ Iris-setosa │\n",
       "└─────┴───────────────┴──────────────┴───────────────┴──────────────┴─────────────┘"
      ]
     },
     "execution_count": 19,
     "metadata": {},
     "output_type": "execute_result"
    }
   ],
   "source": [
    "iris_df.head(Some(5))"
   ]
  },
  {
   "cell_type": "code",
   "execution_count": 7,
   "id": "22d64f57-66c9-4d73-a533-2acc8ff8fdec",
   "metadata": {},
   "outputs": [
    {
     "data": {
      "text/plain": [
       "shape: (5, 6)\n",
       "┌─────┬───────────────┬──────────────┬───────────────┬──────────────┬────────────────┐\n",
       "│ Id  ┆ SepalLengthCm ┆ SepalWidthCm ┆ PetalLengthCm ┆ PetalWidthCm ┆ Species        │\n",
       "│ --- ┆ ---           ┆ ---          ┆ ---           ┆ ---          ┆ ---            │\n",
       "│ i64 ┆ f64           ┆ f64          ┆ f64           ┆ f64          ┆ str            │\n",
       "╞═════╪═══════════════╪══════════════╪═══════════════╪══════════════╪════════════════╡\n",
       "│ 146 ┆ 6.7           ┆ 3.0          ┆ 5.2           ┆ 2.3          ┆ Iris-virginica │\n",
       "│ 147 ┆ 6.3           ┆ 2.5          ┆ 5.0           ┆ 1.9          ┆ Iris-virginica │\n",
       "│ 148 ┆ 6.5           ┆ 3.0          ┆ 5.2           ┆ 2.0          ┆ Iris-virginica │\n",
       "│ 149 ┆ 6.2           ┆ 3.4          ┆ 5.4           ┆ 2.3          ┆ Iris-virginica │\n",
       "│ 150 ┆ 5.9           ┆ 3.0          ┆ 5.1           ┆ 1.8          ┆ Iris-virginica │\n",
       "└─────┴───────────────┴──────────────┴───────────────┴──────────────┴────────────────┘"
      ]
     },
     "execution_count": 7,
     "metadata": {},
     "output_type": "execute_result"
    }
   ],
   "source": [
    "iris_df.tail(Some(5))"
   ]
  },
  {
   "cell_type": "code",
   "execution_count": 8,
   "id": "cd5c7a75-e4e0-48c0-a5ed-fc8c5b6465a6",
   "metadata": {},
   "outputs": [
    {
     "data": {
      "text/plain": [
       "Schema:\n",
       "name: Id, data type: Int64\n",
       "name: SepalLengthCm, data type: Float64\n",
       "name: SepalWidthCm, data type: Float64\n",
       "name: PetalLengthCm, data type: Float64\n",
       "name: PetalWidthCm, data type: Float64\n",
       "name: Species, data type: String\n"
      ]
     },
     "execution_count": 8,
     "metadata": {},
     "output_type": "execute_result"
    }
   ],
   "source": [
    "iris_df.schema()"
   ]
  },
  {
   "cell_type": "code",
   "execution_count": 9,
   "id": "4cab33d0-25fd-48f2-858f-35538786fd8e",
   "metadata": {},
   "outputs": [
    {
     "data": {
      "text/plain": [
       "[Field { name: \"Id\", dtype: Int64 }, Field { name: \"SepalLengthCm\", dtype: Float64 }, Field { name: \"SepalWidthCm\", dtype: Float64 }, Field { name: \"PetalLengthCm\", dtype: Float64 }, Field { name: \"PetalWidthCm\", dtype: Float64 }, Field { name: \"Species\", dtype: String }]"
      ]
     },
     "execution_count": 9,
     "metadata": {},
     "output_type": "execute_result"
    }
   ],
   "source": [
    "iris_df.fields()"
   ]
  },
  {
   "cell_type": "code",
   "execution_count": 10,
   "id": "fee363a5-1452-4c25-b460-ed3f28c1be8d",
   "metadata": {},
   "outputs": [
    {
     "data": {
      "text/plain": [
       "[\"Id\", \"SepalLengthCm\", \"SepalWidthCm\", \"PetalLengthCm\", \"PetalWidthCm\", \"Species\"]"
      ]
     },
     "execution_count": 10,
     "metadata": {},
     "output_type": "execute_result"
    }
   ],
   "source": [
    "iris_df.get_column_names()"
   ]
  },
  {
   "cell_type": "code",
   "execution_count": 20,
   "id": "a1750a1d-b283-4dac-b600-0e45e0234b3e",
   "metadata": {},
   "outputs": [],
   "source": [
    "let numeric_iris_df = iris_df.drop(\"Species\").unwrap();"
   ]
  },
  {
   "cell_type": "code",
   "execution_count": 21,
   "id": "c9c2637e-c413-4538-9f92-7dc9cef7671f",
   "metadata": {},
   "outputs": [
    {
     "data": {
      "text/plain": [
       "Ok(Some(shape: (150,)\n",
       "Series: 'Id' [f64]\n",
       "[\n",
       "\t2.24\n",
       "\t2.3\n",
       "\t2.48\n",
       "\t2.68\n",
       "\t3.04\n",
       "\t3.48\n",
       "\t3.34\n",
       "\t3.62\n",
       "\t3.58\n",
       "\t3.92\n",
       "\t4.36\n",
       "\t4.4\n",
       "\t…\n",
       "\t30.96\n",
       "\t30.92\n",
       "\t31.5\n",
       "\t31.76\n",
       "\t31.88\n",
       "\t31.7\n",
       "\t32.44\n",
       "\t32.64\n",
       "\t32.64\n",
       "\t32.54\n",
       "\t32.94\n",
       "\t33.26\n",
       "\t33.16\n",
       "]))"
      ]
     },
     "execution_count": 21,
     "metadata": {},
     "output_type": "execute_result"
    }
   ],
   "source": [
    "use polars::frame::NullStrategy;\n",
    "numeric_iris_df.mean_horizontal(NullStrategy::Ignore)"
   ]
  },
  {
   "cell_type": "code",
   "execution_count": 13,
   "id": "96bb59bc-d8a0-450d-8587-d08cd407ccc6",
   "metadata": {},
   "outputs": [
    {
     "data": {
      "text/plain": [
       "Ok(Some(shape: (150,)\n",
       "Series: 'Id' [f64]\n",
       "[\n",
       "\t5.1\n",
       "\t4.9\n",
       "\t4.7\n",
       "\t4.6\n",
       "\t5.0\n",
       "\t6.0\n",
       "\t7.0\n",
       "\t8.0\n",
       "\t9.0\n",
       "\t10.0\n",
       "\t11.0\n",
       "\t12.0\n",
       "\t…\n",
       "\t138.0\n",
       "\t139.0\n",
       "\t140.0\n",
       "\t141.0\n",
       "\t142.0\n",
       "\t143.0\n",
       "\t144.0\n",
       "\t145.0\n",
       "\t146.0\n",
       "\t147.0\n",
       "\t148.0\n",
       "\t149.0\n",
       "\t150.0\n",
       "]))"
      ]
     },
     "execution_count": 13,
     "metadata": {},
     "output_type": "execute_result"
    }
   ],
   "source": [
    "numeric_iris_df.max_horizontal()"
   ]
  },
  {
   "cell_type": "code",
   "execution_count": 22,
   "id": "fe6be36b-a15a-4613-ae7f-0bad99a9101c",
   "metadata": {},
   "outputs": [],
   "source": [
    "let numeric_iris_df2 = numeric_iris_df.clone();"
   ]
  },
  {
   "cell_type": "code",
   "execution_count": 23,
   "id": "7b0a3431-f1f6-45fb-a17e-d50afb4ecce0",
   "metadata": {},
   "outputs": [
    {
     "data": {
      "text/plain": [
       "[[1.0, 5.1, 3.5, 1.4, 0.2],\n",
       " [2.0, 4.9, 3.0, 1.4, 0.2],\n",
       " [3.0, 4.7, 3.2, 1.3, 0.2],\n",
       " [4.0, 4.6, 3.1, 1.5, 0.2],\n",
       " [5.0, 5.0, 3.6, 1.4, 0.2],\n",
       " ...,\n",
       " [146.0, 6.7, 3.0, 5.2, 2.3],\n",
       " [147.0, 6.3, 2.5, 5.0, 1.9],\n",
       " [148.0, 6.5, 3.0, 5.2, 2.0],\n",
       " [149.0, 6.2, 3.4, 5.4, 2.3],\n",
       " [150.0, 5.9, 3.0, 5.1, 1.8]], shape=[150, 5], strides=[1, 150], layout=Ff (0xa), const ndim=2"
      ]
     },
     "execution_count": 23,
     "metadata": {},
     "output_type": "execute_result"
    }
   ],
   "source": [
    "let numeric_iris_ndarray = numeric_iris_df2.to_ndarray::<Float64Type>(IndexOrder::Fortran).unwrap();\n",
    "numeric_iris_ndarray"
   ]
  },
  {
   "cell_type": "code",
   "execution_count": 24,
   "id": "55455090-b0fd-4f8a-8c38-9dc7a340745d",
   "metadata": {},
   "outputs": [],
   "source": [
    "use ndarray::prelude::*;"
   ]
  },
  {
   "cell_type": "code",
   "execution_count": 25,
   "id": "aee090b6-6e8b-4e86-8fdf-eeeb3fc35c82",
   "metadata": {},
   "outputs": [
    {
     "data": {
      "text/plain": [
       "[[1.0, 2.0, 3.0],\n",
       " [4.0, 5.0, 6.0]], shape=[2, 3], strides=[3, 1], layout=Cc (0x5), const ndim=2"
      ]
     },
     "execution_count": 25,
     "metadata": {},
     "output_type": "execute_result"
    }
   ],
   "source": [
    "array![[1.,2.,3.], [4.,5.,6.]]"
   ]
  },
  {
   "cell_type": "code",
   "execution_count": 26,
   "id": "76773ed6-12c7-41c7-8b92-01614088ac13",
   "metadata": {},
   "outputs": [
    {
     "data": {
      "text/plain": [
       "[[1.0, 2.0, 3.0],\n",
       " [4.0, 5.0, 6.0]], shape=[2, 3], strides=[3, 1], layout=Cc (0x5), const ndim=2"
      ]
     },
     "execution_count": 26,
     "metadata": {},
     "output_type": "execute_result"
    }
   ],
   "source": [
    "arr2(&[[1.,2.,3.], [4.,5.,6.]])"
   ]
  },
  {
   "cell_type": "code",
   "execution_count": 27,
   "id": "e349ea0b-8122-4a16-a303-3b87ac694078",
   "metadata": {},
   "outputs": [
    {
     "data": {
      "text/plain": [
       "[0.0, 0.5, 1.0, 1.5, 2.0, 2.5, 3.0, 3.5, 4.0, 4.5, 5.0, 5.5, 6.0, 6.5, 7.0, 7.5, 8.0, 8.5, 9.0, 9.5], shape=[20], strides=[1], layout=CFcf (0xf), const ndim=1"
      ]
     },
     "execution_count": 27,
     "metadata": {},
     "output_type": "execute_result"
    }
   ],
   "source": [
    "Array::range(0., 10., 0.5)"
   ]
  },
  {
   "cell_type": "code",
   "execution_count": 29,
   "id": "5f9240db-db9b-4d21-acf3-75fe3caf1645",
   "metadata": {},
   "outputs": [
    {
     "data": {
      "text/plain": [
       "[0.0, 0.5882352941176471, 1.1764705882352942, 1.7647058823529411, 2.3529411764705883, 2.9411764705882355, 3.5294117647058822, 4.11764705882353, 4.705882352941177, 5.294117647058823, 5.882352941176471, 6.470588235294118, 7.0588235294117645, 7.647058823529412, 8.23529411764706, 8.823529411764707, 9.411764705882353, 10.0], shape=[18], strides=[1], layout=CFcf (0xf), const ndim=1"
      ]
     },
     "execution_count": 29,
     "metadata": {},
     "output_type": "execute_result"
    }
   ],
   "source": [
    "Array::linspace(0., 10., 18)"
   ]
  },
  {
   "cell_type": "code",
   "execution_count": 32,
   "id": "9ee49baf-c4ba-4d9a-adb8-ae0f57337eed",
   "metadata": {},
   "outputs": [
    {
     "data": {
      "text/plain": [
       "[[[1.0, 1.0, 1.0, 1.0, 1.0],\n",
       "  [1.0, 1.0, 1.0, 1.0, 1.0],\n",
       "  [1.0, 1.0, 1.0, 1.0, 1.0],\n",
       "  [1.0, 1.0, 1.0, 1.0, 1.0]],\n",
       "\n",
       " [[1.0, 1.0, 1.0, 1.0, 1.0],\n",
       "  [1.0, 1.0, 1.0, 1.0, 1.0],\n",
       "  [1.0, 1.0, 1.0, 1.0, 1.0],\n",
       "  [1.0, 1.0, 1.0, 1.0, 1.0]],\n",
       "\n",
       " [[1.0, 1.0, 1.0, 1.0, 1.0],\n",
       "  [1.0, 1.0, 1.0, 1.0, 1.0],\n",
       "  [1.0, 1.0, 1.0, 1.0, 1.0],\n",
       "  [1.0, 1.0, 1.0, 1.0, 1.0]]], shape=[3, 4, 5], strides=[1, 3, 12], layout=Ff (0xa), const ndim=3"
      ]
     },
     "execution_count": 32,
     "metadata": {},
     "output_type": "execute_result"
    }
   ],
   "source": [
    "Array::<f64, _>::ones((3, 4, 5).f())"
   ]
  },
  {
   "cell_type": "code",
   "execution_count": 33,
   "id": "669a46a8-8e2e-456b-beba-9331d4ca13b0",
   "metadata": {},
   "outputs": [
    {
     "data": {
      "text/plain": [
       "[[[1.0, 1.0, 1.0, 1.0, 1.0],\n",
       "  [1.0, 1.0, 1.0, 1.0, 1.0],\n",
       "  [1.0, 1.0, 1.0, 1.0, 1.0],\n",
       "  [1.0, 1.0, 1.0, 1.0, 1.0]],\n",
       "\n",
       " [[1.0, 1.0, 1.0, 1.0, 1.0],\n",
       "  [1.0, 1.0, 1.0, 1.0, 1.0],\n",
       "  [1.0, 1.0, 1.0, 1.0, 1.0],\n",
       "  [1.0, 1.0, 1.0, 1.0, 1.0]],\n",
       "\n",
       " [[1.0, 1.0, 1.0, 1.0, 1.0],\n",
       "  [1.0, 1.0, 1.0, 1.0, 1.0],\n",
       "  [1.0, 1.0, 1.0, 1.0, 1.0],\n",
       "  [1.0, 1.0, 1.0, 1.0, 1.0]]], shape=[3, 4, 5], strides=[20, 5, 1], layout=Cc (0x5), const ndim=3"
      ]
     },
     "execution_count": 33,
     "metadata": {},
     "output_type": "execute_result"
    }
   ],
   "source": [
    "Array::<f64, _>::ones((3, 4, 5))"
   ]
  },
  {
   "cell_type": "code",
   "execution_count": 34,
   "id": "b7b0e9e7-7fd0-4087-9711-455ad2308565",
   "metadata": {},
   "outputs": [
    {
     "data": {
      "text/plain": [
       "[[[0.0, 0.0, 0.0, 0.0, 0.0],\n",
       "  [0.0, 0.0, 0.0, 0.0, 0.0],\n",
       "  [0.0, 0.0, 0.0, 0.0, 0.0],\n",
       "  [0.0, 0.0, 0.0, 0.0, 0.0]],\n",
       "\n",
       " [[0.0, 0.0, 0.0, 0.0, 0.0],\n",
       "  [0.0, 0.0, 0.0, 0.0, 0.0],\n",
       "  [0.0, 0.0, 0.0, 0.0, 0.0],\n",
       "  [0.0, 0.0, 0.0, 0.0, 0.0]],\n",
       "\n",
       " [[0.0, 0.0, 0.0, 0.0, 0.0],\n",
       "  [0.0, 0.0, 0.0, 0.0, 0.0],\n",
       "  [0.0, 0.0, 0.0, 0.0, 0.0],\n",
       "  [0.0, 0.0, 0.0, 0.0, 0.0]]], shape=[3, 4, 5], strides=[20, 5, 1], layout=Cc (0x5), const ndim=3"
      ]
     },
     "execution_count": 34,
     "metadata": {},
     "output_type": "execute_result"
    }
   ],
   "source": [
    "Array::<f64, _>::zeros((3, 4, 5))"
   ]
  },
  {
   "cell_type": "code",
   "execution_count": 36,
   "id": "80303cf7-1001-4a4d-894f-4c6e59b03986",
   "metadata": {},
   "outputs": [
    {
     "data": {
      "text/plain": [
       "[[1.0, 0.0, 0.0],\n",
       " [0.0, 1.0, 0.0],\n",
       " [0.0, 0.0, 1.0]], shape=[3, 3], strides=[3, 1], layout=Cc (0x5), const ndim=2"
      ]
     },
     "execution_count": 36,
     "metadata": {},
     "output_type": "execute_result"
    }
   ],
   "source": [
    "Array::<f64, _>::eye(3)"
   ]
  },
  {
   "cell_type": "code",
   "execution_count": 39,
   "id": "7d46991a-0813-4d13-b468-f9fce3a6fec2",
   "metadata": {},
   "outputs": [],
   "source": [
    "let arr = array![[1.,2.,3.], [4.,5.,6.]];"
   ]
  },
  {
   "cell_type": "code",
   "execution_count": 42,
   "id": "8dc66d5c-fde1-48ce-a19a-2f8b70ce387a",
   "metadata": {},
   "outputs": [
    {
     "data": {
      "text/plain": [
       "6.0"
      ]
     },
     "execution_count": 42,
     "metadata": {},
     "output_type": "execute_result"
    }
   ],
   "source": [
    "arr[[1, 2]]"
   ]
  },
  {
   "cell_type": "code",
   "execution_count": 43,
   "id": "1bc4ef08-62aa-40db-a3c0-465a0f3e4322",
   "metadata": {},
   "outputs": [
    {
     "data": {
      "text/plain": [
       "[[1.0, 2.0, 3.0]], shape=[1, 3], strides=[0, 1], layout=CFcf (0xf), const ndim=2"
      ]
     },
     "execution_count": 43,
     "metadata": {},
     "output_type": "execute_result"
    }
   ],
   "source": [
    "arr.slice(s![0..1, ..])"
   ]
  },
  {
   "cell_type": "code",
   "execution_count": 44,
   "id": "8fc1d21b-a613-4600-9f14-1f0b133c1192",
   "metadata": {},
   "outputs": [
    {
     "data": {
      "text/plain": [
       "21.0"
      ]
     },
     "execution_count": 44,
     "metadata": {},
     "output_type": "execute_result"
    }
   ],
   "source": [
    "arr.sum()"
   ]
  },
  {
   "cell_type": "code",
   "execution_count": 45,
   "id": "02671685-0f99-4acc-a036-906809a58cf5",
   "metadata": {},
   "outputs": [
    {
     "data": {
      "text/plain": [
       "[5.0, 7.0, 9.0], shape=[3], strides=[1], layout=CFcf (0xf), const ndim=1"
      ]
     },
     "execution_count": 45,
     "metadata": {},
     "output_type": "execute_result"
    }
   ],
   "source": [
    "arr.sum_axis(Axis(0))"
   ]
  },
  {
   "cell_type": "code",
   "execution_count": 46,
   "id": "30d45749-23de-4d1d-8470-970ab1d6d1e2",
   "metadata": {},
   "outputs": [
    {
     "data": {
      "text/plain": [
       "[6.0, 15.0], shape=[2], strides=[1], layout=CFcf (0xf), const ndim=1"
      ]
     },
     "execution_count": 46,
     "metadata": {},
     "output_type": "execute_result"
    }
   ],
   "source": [
    "arr.sum_axis(Axis(1))"
   ]
  },
  {
   "cell_type": "code",
   "execution_count": 47,
   "id": "e30a3a06-8004-4509-925d-a9d0bdefc620",
   "metadata": {},
   "outputs": [
    {
     "data": {
      "text/plain": [
       "3.5"
      ]
     },
     "execution_count": 47,
     "metadata": {},
     "output_type": "execute_result"
    }
   ],
   "source": [
    "arr.mean().unwrap()"
   ]
  },
  {
   "cell_type": "code",
   "execution_count": 49,
   "id": "bf0f0903-1440-42e7-afc1-c1837e9ded47",
   "metadata": {},
   "outputs": [
    {
     "data": {
      "text/plain": [
       "[[1.0, 2.0, 3.0],\n",
       " [4.0, 5.0, 6.0]], shape=[2, 3], strides=[3, 1], layout=Cc (0x5), const ndim=2"
      ]
     },
     "execution_count": 49,
     "metadata": {},
     "output_type": "execute_result"
    }
   ],
   "source": [
    "arr"
   ]
  },
  {
   "cell_type": "code",
   "execution_count": 53,
   "id": "293f0828-5d63-4828-999d-db2adfc4201a",
   "metadata": {},
   "outputs": [
    {
     "data": {
      "text/plain": [
       "[[1.0, 4.0],\n",
       " [2.0, 5.0],\n",
       " [3.0, 6.0]], shape=[3, 2], strides=[1, 3], layout=Ff (0xa), const ndim=2"
      ]
     },
     "execution_count": 53,
     "metadata": {},
     "output_type": "execute_result"
    }
   ],
   "source": [
    "arr.t()"
   ]
  },
  {
   "cell_type": "code",
   "execution_count": 54,
   "id": "99af2ba4-c83a-405c-91de-4fda77459dfe",
   "metadata": {},
   "outputs": [
    {
     "data": {
      "text/plain": [
       "[[14.0, 32.0],\n",
       " [32.0, 77.0]], shape=[2, 2], strides=[2, 1], layout=Cc (0x5), const ndim=2"
      ]
     },
     "execution_count": 54,
     "metadata": {},
     "output_type": "execute_result"
    }
   ],
   "source": [
    "arr.dot(&arr.t())"
   ]
  },
  {
   "cell_type": "code",
   "execution_count": 77,
   "id": "513b77b6-1cb8-4e03-925c-529c9342ffd9",
   "metadata": {},
   "outputs": [],
   "source": [
    "let a = arr2(&[[ 0f32, 1.],\n",
    "               [-1., 2.]]);"
   ]
  },
  {
   "cell_type": "code",
   "execution_count": 79,
   "id": "17ba7707-a54f-499d-bb50-0702e8aa89b6",
   "metadata": {},
   "outputs": [
    {
     "data": {
      "text/plain": [
       "[[0.0, 1.0],\n",
       " [NaN, 1.4142135]], shape=[2, 2], strides=[2, 1], layout=Cc (0x5), const ndim=2"
      ]
     },
     "execution_count": 79,
     "metadata": {},
     "output_type": "execute_result"
    }
   ],
   "source": [
    "a.mapv(f32::sqrt)"
   ]
  },
  {
   "cell_type": "code",
   "execution_count": 83,
   "id": "f742e8e4-3d94-4fef-ab4a-73c6cb137185",
   "metadata": {},
   "outputs": [
    {
     "data": {
      "text/plain": [
       "[[1.0, 1.4142135, 1.7320508],\n",
       " [2.0, 2.236068, 2.4494898]], shape=[2, 3], strides=[3, 1], layout=Cc (0x5), const ndim=2"
      ]
     },
     "execution_count": 83,
     "metadata": {},
     "output_type": "execute_result"
    }
   ],
   "source": [
    "arr.mapv(|a|f32::sqrt(a as f32))"
   ]
  },
  {
   "cell_type": "code",
   "execution_count": 58,
   "id": "750042cb-d5c2-4b1b-8524-8ab688b14d10",
   "metadata": {},
   "outputs": [],
   "source": [
    "let a = Array::range(0., 10., 1.);"
   ]
  },
  {
   "cell_type": "code",
   "execution_count": 59,
   "id": "3b5549d6-ebfd-4ed3-8309-5a730a841715",
   "metadata": {},
   "outputs": [
    {
     "data": {
      "text/plain": [
       "[0.0, 1.0, 8.0, 27.0, 64.0, 125.0, 216.0, 343.0, 512.0, 729.0], shape=[10], strides=[1], layout=CFcf (0xf), const ndim=1"
      ]
     },
     "execution_count": 59,
     "metadata": {},
     "output_type": "execute_result"
    }
   ],
   "source": [
    "a.mapv(|a: f64| a.powi(3))"
   ]
  },
  {
   "cell_type": "code",
   "execution_count": 67,
   "id": "fa79f25f-4310-4d80-812c-38010fa60b4e",
   "metadata": {},
   "outputs": [],
   "source": [
    ":dep plotters = { version = \"*\", default_features = false, features = [\"evcxr\", \"all_series\"] }"
   ]
  },
  {
   "cell_type": "code",
   "execution_count": 69,
   "id": "8ec3da94-64b5-4148-a997-9a30fcfbd9e6",
   "metadata": {},
   "outputs": [],
   "source": [
    "let sepal_samples:Vec<(f64,f64)> = {\n",
    "    let sepal_length_cm: DataFrame = iris_df.select(vec![\"SepalLengthCm\"]).unwrap();\n",
    "    let mut sepal_length = sepal_length_cm.to_ndarray::<Float64Type>(IndexOrder::Fortran).unwrap().into_raw_vec().into_iter();\n",
    "    let sepal_width_cm: DataFrame = iris_df.select(vec![\"SepalWidthCm\"]).unwrap();\n",
    "    let mut sepal_width = sepal_width_cm.to_ndarray::<Float64Type>(IndexOrder::Fortran).unwrap().into_raw_vec().into_iter();\n",
    "    sepal_width.zip(sepal_length).collect()\n",
    "};"
   ]
  },
  {
   "cell_type": "code",
   "execution_count": 70,
   "id": "76ffc54b-c2d0-4767-aec2-472adaf22a64",
   "metadata": {},
   "outputs": [
    {
     "data": {
      "text/plain": [
       "[(3.5, 5.1), (3.0, 4.9), (3.2, 4.7), (3.1, 4.6), (3.6, 5.0), (3.9, 5.4), (3.4, 4.6), (3.4, 5.0), (2.9, 4.4), (3.1, 4.9), (3.7, 5.4), (3.4, 4.8), (3.0, 4.8), (3.0, 4.3), (4.0, 5.8), (4.4, 5.7), (3.9, 5.4), (3.5, 5.1), (3.8, 5.7), (3.8, 5.1), (3.4, 5.4), (3.7, 5.1), (3.6, 4.6), (3.3, 5.1), (3.4, 4.8), (3.0, 5.0), (3.4, 5.0), (3.5, 5.2), (3.4, 5.2), (3.2, 4.7), (3.1, 4.8), (3.4, 5.4), (4.1, 5.2), (4.2, 5.5), (3.1, 4.9), (3.2, 5.0), (3.5, 5.5), (3.1, 4.9), (3.0, 4.4), (3.4, 5.1), (3.5, 5.0), (2.3, 4.5), (3.2, 4.4), (3.5, 5.0), (3.8, 5.1), (3.0, 4.8), (3.8, 5.1), (3.2, 4.6), (3.7, 5.3), (3.3, 5.0), (3.2, 7.0), (3.2, 6.4), (3.1, 6.9), (2.3, 5.5), (2.8, 6.5), (2.8, 5.7), (3.3, 6.3), (2.4, 4.9), (2.9, 6.6), (2.7, 5.2), (2.0, 5.0), (3.0, 5.9), (2.2, 6.0), (2.9, 6.1), (2.9, 5.6), (3.1, 6.7), (3.0, 5.6), (2.7, 5.8), (2.2, 6.2), (2.5, 5.6), (3.2, 5.9), (2.8, 6.1), (2.5, 6.3), (2.8, 6.1), (2.9, 6.4), (3.0, 6.6), (2.8, 6.8), (3.0, 6.7), (2.9, 6.0), (2.6, 5.7), (2.4, 5.5), (2.4, 5.5), (2.7, 5.8), (2.7, 6.0), (3.0, 5.4), (3.4, 6.0), (3.1, 6.7), (2.3, 6.3), (3.0, 5.6), (2.5, 5.5), (2.6, 5.5), (3.0, 6.1), (2.6, 5.8), (2.3, 5.0), (2.7, 5.6), (3.0, 5.7), (2.9, 5.7), (2.9, 6.2), (2.5, 5.1), (2.8, 5.7), (3.3, 6.3), (2.7, 5.8), (3.0, 7.1), (2.9, 6.3), (3.0, 6.5), (3.0, 7.6), (2.5, 4.9), (2.9, 7.3), (2.5, 6.7), (3.6, 7.2), (3.2, 6.5), (2.7, 6.4), (3.0, 6.8), (2.5, 5.7), (2.8, 5.8), (3.2, 6.4), (3.0, 6.5), (3.8, 7.7), (2.6, 7.7), (2.2, 6.0), (3.2, 6.9), (2.8, 5.6), (2.8, 7.7), (2.7, 6.3), (3.3, 6.7), (3.2, 7.2), (2.8, 6.2), (3.0, 6.1), (2.8, 6.4), (3.0, 7.2), (2.8, 7.4), (3.8, 7.9), (2.8, 6.4), (2.8, 6.3), (2.6, 6.1), (3.0, 7.7), (3.4, 6.3), (3.1, 6.4), (3.0, 6.0), (3.1, 6.9), (3.1, 6.7), (3.1, 6.9), (2.7, 5.8), (3.2, 6.8), (3.3, 6.7), (3.0, 6.7), (2.5, 6.3), (3.0, 6.5), (3.4, 6.2), (3.0, 5.9)]"
      ]
     },
     "execution_count": 70,
     "metadata": {},
     "output_type": "execute_result"
    }
   ],
   "source": [
    "sepal_samples"
   ]
  },
  {
   "cell_type": "code",
   "execution_count": 72,
   "id": "956ea9d7-7c64-4d8d-ae90-e8fc7b9ca532",
   "metadata": {},
   "outputs": [],
   "source": [
    "use plotters::prelude::*;"
   ]
  },
  {
   "cell_type": "code",
   "execution_count": 73,
   "id": "cbe740a8-9bac-4645-a532-bb00bb1b4fbb",
   "metadata": {},
   "outputs": [
    {
     "data": {
      "text/html": [
       "<div style=\"width:60%\"><svg width=\"640\" height=\"480\" viewBox=\"0 0 640 480\" xmlns=\"http://www.w3.org/2000/svg\">\n",
       "<text x=\"320\" y=\"5\" dy=\"0.76em\" text-anchor=\"middle\" font-family=\"Arial\" font-size=\"24.193548387096776\" opacity=\"1\" fill=\"#000000\">\n",
       "Iris Dataset\n",
       "</text>\n",
       "<line opacity=\"0.1\" stroke=\"#000000\" stroke-width=\"1\" x1=\"40\" y1=\"439\" x2=\"40\" y2=\"35\"/>\n",
       "<line opacity=\"0.1\" stroke=\"#000000\" stroke-width=\"1\" x1=\"47\" y1=\"439\" x2=\"47\" y2=\"35\"/>\n",
       "<line opacity=\"0.1\" stroke=\"#000000\" stroke-width=\"1\" x1=\"54\" y1=\"439\" x2=\"54\" y2=\"35\"/>\n",
       "<line opacity=\"0.1\" stroke=\"#000000\" stroke-width=\"1\" x1=\"62\" y1=\"439\" x2=\"62\" y2=\"35\"/>\n",
       "<line opacity=\"0.1\" stroke=\"#000000\" stroke-width=\"1\" x1=\"69\" y1=\"439\" x2=\"69\" y2=\"35\"/>\n",
       "<line opacity=\"0.1\" stroke=\"#000000\" stroke-width=\"1\" x1=\"77\" y1=\"439\" x2=\"77\" y2=\"35\"/>\n",
       "<line opacity=\"0.1\" stroke=\"#000000\" stroke-width=\"1\" x1=\"84\" y1=\"439\" x2=\"84\" y2=\"35\"/>\n",
       "<line opacity=\"0.1\" stroke=\"#000000\" stroke-width=\"1\" x1=\"92\" y1=\"439\" x2=\"92\" y2=\"35\"/>\n",
       "<line opacity=\"0.1\" stroke=\"#000000\" stroke-width=\"1\" x1=\"99\" y1=\"439\" x2=\"99\" y2=\"35\"/>\n",
       "<line opacity=\"0.1\" stroke=\"#000000\" stroke-width=\"1\" x1=\"107\" y1=\"439\" x2=\"107\" y2=\"35\"/>\n",
       "<line opacity=\"0.1\" stroke=\"#000000\" stroke-width=\"1\" x1=\"114\" y1=\"439\" x2=\"114\" y2=\"35\"/>\n",
       "<line opacity=\"0.1\" stroke=\"#000000\" stroke-width=\"1\" x1=\"122\" y1=\"439\" x2=\"122\" y2=\"35\"/>\n",
       "<line opacity=\"0.1\" stroke=\"#000000\" stroke-width=\"1\" x1=\"129\" y1=\"439\" x2=\"129\" y2=\"35\"/>\n",
       "<line opacity=\"0.1\" stroke=\"#000000\" stroke-width=\"1\" x1=\"137\" y1=\"439\" x2=\"137\" y2=\"35\"/>\n",
       "<line opacity=\"0.1\" stroke=\"#000000\" stroke-width=\"1\" x1=\"144\" y1=\"439\" x2=\"144\" y2=\"35\"/>\n",
       "<line opacity=\"0.1\" stroke=\"#000000\" stroke-width=\"1\" x1=\"152\" y1=\"439\" x2=\"152\" y2=\"35\"/>\n",
       "<line opacity=\"0.1\" stroke=\"#000000\" stroke-width=\"1\" x1=\"159\" y1=\"439\" x2=\"159\" y2=\"35\"/>\n",
       "<line opacity=\"0.1\" stroke=\"#000000\" stroke-width=\"1\" x1=\"167\" y1=\"439\" x2=\"167\" y2=\"35\"/>\n",
       "<line opacity=\"0.1\" stroke=\"#000000\" stroke-width=\"1\" x1=\"174\" y1=\"439\" x2=\"174\" y2=\"35\"/>\n",
       "<line opacity=\"0.1\" stroke=\"#000000\" stroke-width=\"1\" x1=\"182\" y1=\"439\" x2=\"182\" y2=\"35\"/>\n",
       "<line opacity=\"0.1\" stroke=\"#000000\" stroke-width=\"1\" x1=\"189\" y1=\"439\" x2=\"189\" y2=\"35\"/>\n",
       "<line opacity=\"0.1\" stroke=\"#000000\" stroke-width=\"1\" x1=\"197\" y1=\"439\" x2=\"197\" y2=\"35\"/>\n",
       "<line opacity=\"0.1\" stroke=\"#000000\" stroke-width=\"1\" x1=\"204\" y1=\"439\" x2=\"204\" y2=\"35\"/>\n",
       "<line opacity=\"0.1\" stroke=\"#000000\" stroke-width=\"1\" x1=\"212\" y1=\"439\" x2=\"212\" y2=\"35\"/>\n",
       "<line opacity=\"0.1\" stroke=\"#000000\" stroke-width=\"1\" x1=\"219\" y1=\"439\" x2=\"219\" y2=\"35\"/>\n",
       "<line opacity=\"0.1\" stroke=\"#000000\" stroke-width=\"1\" x1=\"227\" y1=\"439\" x2=\"227\" y2=\"35\"/>\n",
       "<line opacity=\"0.1\" stroke=\"#000000\" stroke-width=\"1\" x1=\"234\" y1=\"439\" x2=\"234\" y2=\"35\"/>\n",
       "<line opacity=\"0.1\" stroke=\"#000000\" stroke-width=\"1\" x1=\"242\" y1=\"439\" x2=\"242\" y2=\"35\"/>\n",
       "<line opacity=\"0.1\" stroke=\"#000000\" stroke-width=\"1\" x1=\"249\" y1=\"439\" x2=\"249\" y2=\"35\"/>\n",
       "<line opacity=\"0.1\" stroke=\"#000000\" stroke-width=\"1\" x1=\"257\" y1=\"439\" x2=\"257\" y2=\"35\"/>\n",
       "<line opacity=\"0.1\" stroke=\"#000000\" stroke-width=\"1\" x1=\"264\" y1=\"439\" x2=\"264\" y2=\"35\"/>\n",
       "<line opacity=\"0.1\" stroke=\"#000000\" stroke-width=\"1\" x1=\"272\" y1=\"439\" x2=\"272\" y2=\"35\"/>\n",
       "<line opacity=\"0.1\" stroke=\"#000000\" stroke-width=\"1\" x1=\"279\" y1=\"439\" x2=\"279\" y2=\"35\"/>\n",
       "<line opacity=\"0.1\" stroke=\"#000000\" stroke-width=\"1\" x1=\"287\" y1=\"439\" x2=\"287\" y2=\"35\"/>\n",
       "<line opacity=\"0.1\" stroke=\"#000000\" stroke-width=\"1\" x1=\"294\" y1=\"439\" x2=\"294\" y2=\"35\"/>\n",
       "<line opacity=\"0.1\" stroke=\"#000000\" stroke-width=\"1\" x1=\"302\" y1=\"439\" x2=\"302\" y2=\"35\"/>\n",
       "<line opacity=\"0.1\" stroke=\"#000000\" stroke-width=\"1\" x1=\"309\" y1=\"439\" x2=\"309\" y2=\"35\"/>\n",
       "<line opacity=\"0.1\" stroke=\"#000000\" stroke-width=\"1\" x1=\"317\" y1=\"439\" x2=\"317\" y2=\"35\"/>\n",
       "<line opacity=\"0.1\" stroke=\"#000000\" stroke-width=\"1\" x1=\"324\" y1=\"439\" x2=\"324\" y2=\"35\"/>\n",
       "<line opacity=\"0.1\" stroke=\"#000000\" stroke-width=\"1\" x1=\"332\" y1=\"439\" x2=\"332\" y2=\"35\"/>\n",
       "<line opacity=\"0.1\" stroke=\"#000000\" stroke-width=\"1\" x1=\"339\" y1=\"439\" x2=\"339\" y2=\"35\"/>\n",
       "<line opacity=\"0.1\" stroke=\"#000000\" stroke-width=\"1\" x1=\"346\" y1=\"439\" x2=\"346\" y2=\"35\"/>\n",
       "<line opacity=\"0.1\" stroke=\"#000000\" stroke-width=\"1\" x1=\"354\" y1=\"439\" x2=\"354\" y2=\"35\"/>\n",
       "<line opacity=\"0.1\" stroke=\"#000000\" stroke-width=\"1\" x1=\"361\" y1=\"439\" x2=\"361\" y2=\"35\"/>\n",
       "<line opacity=\"0.1\" stroke=\"#000000\" stroke-width=\"1\" x1=\"369\" y1=\"439\" x2=\"369\" y2=\"35\"/>\n",
       "<line opacity=\"0.1\" stroke=\"#000000\" stroke-width=\"1\" x1=\"376\" y1=\"439\" x2=\"376\" y2=\"35\"/>\n",
       "<line opacity=\"0.1\" stroke=\"#000000\" stroke-width=\"1\" x1=\"384\" y1=\"439\" x2=\"384\" y2=\"35\"/>\n",
       "<line opacity=\"0.1\" stroke=\"#000000\" stroke-width=\"1\" x1=\"391\" y1=\"439\" x2=\"391\" y2=\"35\"/>\n",
       "<line opacity=\"0.1\" stroke=\"#000000\" stroke-width=\"1\" x1=\"399\" y1=\"439\" x2=\"399\" y2=\"35\"/>\n",
       "<line opacity=\"0.1\" stroke=\"#000000\" stroke-width=\"1\" x1=\"406\" y1=\"439\" x2=\"406\" y2=\"35\"/>\n",
       "<line opacity=\"0.1\" stroke=\"#000000\" stroke-width=\"1\" x1=\"414\" y1=\"439\" x2=\"414\" y2=\"35\"/>\n",
       "<line opacity=\"0.1\" stroke=\"#000000\" stroke-width=\"1\" x1=\"421\" y1=\"439\" x2=\"421\" y2=\"35\"/>\n",
       "<line opacity=\"0.1\" stroke=\"#000000\" stroke-width=\"1\" x1=\"429\" y1=\"439\" x2=\"429\" y2=\"35\"/>\n",
       "<line opacity=\"0.1\" stroke=\"#000000\" stroke-width=\"1\" x1=\"436\" y1=\"439\" x2=\"436\" y2=\"35\"/>\n",
       "<line opacity=\"0.1\" stroke=\"#000000\" stroke-width=\"1\" x1=\"444\" y1=\"439\" x2=\"444\" y2=\"35\"/>\n",
       "<line opacity=\"0.1\" stroke=\"#000000\" stroke-width=\"1\" x1=\"451\" y1=\"439\" x2=\"451\" y2=\"35\"/>\n",
       "<line opacity=\"0.1\" stroke=\"#000000\" stroke-width=\"1\" x1=\"459\" y1=\"439\" x2=\"459\" y2=\"35\"/>\n",
       "<line opacity=\"0.1\" stroke=\"#000000\" stroke-width=\"1\" x1=\"466\" y1=\"439\" x2=\"466\" y2=\"35\"/>\n",
       "<line opacity=\"0.1\" stroke=\"#000000\" stroke-width=\"1\" x1=\"474\" y1=\"439\" x2=\"474\" y2=\"35\"/>\n",
       "<line opacity=\"0.1\" stroke=\"#000000\" stroke-width=\"1\" x1=\"481\" y1=\"439\" x2=\"481\" y2=\"35\"/>\n",
       "<line opacity=\"0.1\" stroke=\"#000000\" stroke-width=\"1\" x1=\"489\" y1=\"439\" x2=\"489\" y2=\"35\"/>\n",
       "<line opacity=\"0.1\" stroke=\"#000000\" stroke-width=\"1\" x1=\"496\" y1=\"439\" x2=\"496\" y2=\"35\"/>\n",
       "<line opacity=\"0.1\" stroke=\"#000000\" stroke-width=\"1\" x1=\"504\" y1=\"439\" x2=\"504\" y2=\"35\"/>\n",
       "<line opacity=\"0.1\" stroke=\"#000000\" stroke-width=\"1\" x1=\"511\" y1=\"439\" x2=\"511\" y2=\"35\"/>\n",
       "<line opacity=\"0.1\" stroke=\"#000000\" stroke-width=\"1\" x1=\"519\" y1=\"439\" x2=\"519\" y2=\"35\"/>\n",
       "<line opacity=\"0.1\" stroke=\"#000000\" stroke-width=\"1\" x1=\"526\" y1=\"439\" x2=\"526\" y2=\"35\"/>\n",
       "<line opacity=\"0.1\" stroke=\"#000000\" stroke-width=\"1\" x1=\"534\" y1=\"439\" x2=\"534\" y2=\"35\"/>\n",
       "<line opacity=\"0.1\" stroke=\"#000000\" stroke-width=\"1\" x1=\"541\" y1=\"439\" x2=\"541\" y2=\"35\"/>\n",
       "<line opacity=\"0.1\" stroke=\"#000000\" stroke-width=\"1\" x1=\"549\" y1=\"439\" x2=\"549\" y2=\"35\"/>\n",
       "<line opacity=\"0.1\" stroke=\"#000000\" stroke-width=\"1\" x1=\"556\" y1=\"439\" x2=\"556\" y2=\"35\"/>\n",
       "<line opacity=\"0.1\" stroke=\"#000000\" stroke-width=\"1\" x1=\"564\" y1=\"439\" x2=\"564\" y2=\"35\"/>\n",
       "<line opacity=\"0.1\" stroke=\"#000000\" stroke-width=\"1\" x1=\"571\" y1=\"439\" x2=\"571\" y2=\"35\"/>\n",
       "<line opacity=\"0.1\" stroke=\"#000000\" stroke-width=\"1\" x1=\"579\" y1=\"439\" x2=\"579\" y2=\"35\"/>\n",
       "<line opacity=\"0.1\" stroke=\"#000000\" stroke-width=\"1\" x1=\"586\" y1=\"439\" x2=\"586\" y2=\"35\"/>\n",
       "<line opacity=\"0.1\" stroke=\"#000000\" stroke-width=\"1\" x1=\"594\" y1=\"439\" x2=\"594\" y2=\"35\"/>\n",
       "<line opacity=\"0.1\" stroke=\"#000000\" stroke-width=\"1\" x1=\"601\" y1=\"439\" x2=\"601\" y2=\"35\"/>\n",
       "<line opacity=\"0.1\" stroke=\"#000000\" stroke-width=\"1\" x1=\"609\" y1=\"439\" x2=\"609\" y2=\"35\"/>\n",
       "<line opacity=\"0.1\" stroke=\"#000000\" stroke-width=\"1\" x1=\"616\" y1=\"439\" x2=\"616\" y2=\"35\"/>\n",
       "<line opacity=\"0.1\" stroke=\"#000000\" stroke-width=\"1\" x1=\"624\" y1=\"439\" x2=\"624\" y2=\"35\"/>\n",
       "<line opacity=\"0.1\" stroke=\"#000000\" stroke-width=\"1\" x1=\"631\" y1=\"439\" x2=\"631\" y2=\"35\"/>\n",
       "<line opacity=\"0.1\" stroke=\"#000000\" stroke-width=\"1\" x1=\"639\" y1=\"439\" x2=\"639\" y2=\"35\"/>\n",
       "<line opacity=\"0.1\" stroke=\"#000000\" stroke-width=\"1\" x1=\"40\" y1=\"439\" x2=\"639\" y2=\"439\"/>\n",
       "<line opacity=\"0.1\" stroke=\"#000000\" stroke-width=\"1\" x1=\"40\" y1=\"433\" x2=\"639\" y2=\"433\"/>\n",
       "<line opacity=\"0.1\" stroke=\"#000000\" stroke-width=\"1\" x1=\"40\" y1=\"426\" x2=\"639\" y2=\"426\"/>\n",
       "<line opacity=\"0.1\" stroke=\"#000000\" stroke-width=\"1\" x1=\"40\" y1=\"419\" x2=\"639\" y2=\"419\"/>\n",
       "<line opacity=\"0.1\" stroke=\"#000000\" stroke-width=\"1\" x1=\"40\" y1=\"413\" x2=\"639\" y2=\"413\"/>\n",
       "<line opacity=\"0.1\" stroke=\"#000000\" stroke-width=\"1\" x1=\"40\" y1=\"406\" x2=\"639\" y2=\"406\"/>\n",
       "<line opacity=\"0.1\" stroke=\"#000000\" stroke-width=\"1\" x1=\"40\" y1=\"399\" x2=\"639\" y2=\"399\"/>\n",
       "<line opacity=\"0.1\" stroke=\"#000000\" stroke-width=\"1\" x1=\"40\" y1=\"392\" x2=\"639\" y2=\"392\"/>\n",
       "<line opacity=\"0.1\" stroke=\"#000000\" stroke-width=\"1\" x1=\"40\" y1=\"386\" x2=\"639\" y2=\"386\"/>\n",
       "<line opacity=\"0.1\" stroke=\"#000000\" stroke-width=\"1\" x1=\"40\" y1=\"379\" x2=\"639\" y2=\"379\"/>\n",
       "<line opacity=\"0.1\" stroke=\"#000000\" stroke-width=\"1\" x1=\"40\" y1=\"372\" x2=\"639\" y2=\"372\"/>\n",
       "<line opacity=\"0.1\" stroke=\"#000000\" stroke-width=\"1\" x1=\"40\" y1=\"365\" x2=\"639\" y2=\"365\"/>\n",
       "<line opacity=\"0.1\" stroke=\"#000000\" stroke-width=\"1\" x1=\"40\" y1=\"359\" x2=\"639\" y2=\"359\"/>\n",
       "<line opacity=\"0.1\" stroke=\"#000000\" stroke-width=\"1\" x1=\"40\" y1=\"352\" x2=\"639\" y2=\"352\"/>\n",
       "<line opacity=\"0.1\" stroke=\"#000000\" stroke-width=\"1\" x1=\"40\" y1=\"345\" x2=\"639\" y2=\"345\"/>\n",
       "<line opacity=\"0.1\" stroke=\"#000000\" stroke-width=\"1\" x1=\"40\" y1=\"338\" x2=\"639\" y2=\"338\"/>\n",
       "<line opacity=\"0.1\" stroke=\"#000000\" stroke-width=\"1\" x1=\"40\" y1=\"332\" x2=\"639\" y2=\"332\"/>\n",
       "<line opacity=\"0.1\" stroke=\"#000000\" stroke-width=\"1\" x1=\"40\" y1=\"325\" x2=\"639\" y2=\"325\"/>\n",
       "<line opacity=\"0.1\" stroke=\"#000000\" stroke-width=\"1\" x1=\"40\" y1=\"318\" x2=\"639\" y2=\"318\"/>\n",
       "<line opacity=\"0.1\" stroke=\"#000000\" stroke-width=\"1\" x1=\"40\" y1=\"312\" x2=\"639\" y2=\"312\"/>\n",
       "<line opacity=\"0.1\" stroke=\"#000000\" stroke-width=\"1\" x1=\"40\" y1=\"305\" x2=\"639\" y2=\"305\"/>\n",
       "<line opacity=\"0.1\" stroke=\"#000000\" stroke-width=\"1\" x1=\"40\" y1=\"298\" x2=\"639\" y2=\"298\"/>\n",
       "<line opacity=\"0.1\" stroke=\"#000000\" stroke-width=\"1\" x1=\"40\" y1=\"291\" x2=\"639\" y2=\"291\"/>\n",
       "<line opacity=\"0.1\" stroke=\"#000000\" stroke-width=\"1\" x1=\"40\" y1=\"285\" x2=\"639\" y2=\"285\"/>\n",
       "<line opacity=\"0.1\" stroke=\"#000000\" stroke-width=\"1\" x1=\"40\" y1=\"278\" x2=\"639\" y2=\"278\"/>\n",
       "<line opacity=\"0.1\" stroke=\"#000000\" stroke-width=\"1\" x1=\"40\" y1=\"271\" x2=\"639\" y2=\"271\"/>\n",
       "<line opacity=\"0.1\" stroke=\"#000000\" stroke-width=\"1\" x1=\"40\" y1=\"264\" x2=\"639\" y2=\"264\"/>\n",
       "<line opacity=\"0.1\" stroke=\"#000000\" stroke-width=\"1\" x1=\"40\" y1=\"258\" x2=\"639\" y2=\"258\"/>\n",
       "<line opacity=\"0.1\" stroke=\"#000000\" stroke-width=\"1\" x1=\"40\" y1=\"251\" x2=\"639\" y2=\"251\"/>\n",
       "<line opacity=\"0.1\" stroke=\"#000000\" stroke-width=\"1\" x1=\"40\" y1=\"244\" x2=\"639\" y2=\"244\"/>\n",
       "<line opacity=\"0.1\" stroke=\"#000000\" stroke-width=\"1\" x1=\"40\" y1=\"237\" x2=\"639\" y2=\"237\"/>\n",
       "<line opacity=\"0.1\" stroke=\"#000000\" stroke-width=\"1\" x1=\"40\" y1=\"231\" x2=\"639\" y2=\"231\"/>\n",
       "<line opacity=\"0.1\" stroke=\"#000000\" stroke-width=\"1\" x1=\"40\" y1=\"224\" x2=\"639\" y2=\"224\"/>\n",
       "<line opacity=\"0.1\" stroke=\"#000000\" stroke-width=\"1\" x1=\"40\" y1=\"217\" x2=\"639\" y2=\"217\"/>\n",
       "<line opacity=\"0.1\" stroke=\"#000000\" stroke-width=\"1\" x1=\"40\" y1=\"211\" x2=\"639\" y2=\"211\"/>\n",
       "<line opacity=\"0.1\" stroke=\"#000000\" stroke-width=\"1\" x1=\"40\" y1=\"204\" x2=\"639\" y2=\"204\"/>\n",
       "<line opacity=\"0.1\" stroke=\"#000000\" stroke-width=\"1\" x1=\"40\" y1=\"197\" x2=\"639\" y2=\"197\"/>\n",
       "<line opacity=\"0.1\" stroke=\"#000000\" stroke-width=\"1\" x1=\"40\" y1=\"190\" x2=\"639\" y2=\"190\"/>\n",
       "<line opacity=\"0.1\" stroke=\"#000000\" stroke-width=\"1\" x1=\"40\" y1=\"184\" x2=\"639\" y2=\"184\"/>\n",
       "<line opacity=\"0.1\" stroke=\"#000000\" stroke-width=\"1\" x1=\"40\" y1=\"177\" x2=\"639\" y2=\"177\"/>\n",
       "<line opacity=\"0.1\" stroke=\"#000000\" stroke-width=\"1\" x1=\"40\" y1=\"170\" x2=\"639\" y2=\"170\"/>\n",
       "<line opacity=\"0.1\" stroke=\"#000000\" stroke-width=\"1\" x1=\"40\" y1=\"163\" x2=\"639\" y2=\"163\"/>\n",
       "<line opacity=\"0.1\" stroke=\"#000000\" stroke-width=\"1\" x1=\"40\" y1=\"157\" x2=\"639\" y2=\"157\"/>\n",
       "<line opacity=\"0.1\" stroke=\"#000000\" stroke-width=\"1\" x1=\"40\" y1=\"150\" x2=\"639\" y2=\"150\"/>\n",
       "<line opacity=\"0.1\" stroke=\"#000000\" stroke-width=\"1\" x1=\"40\" y1=\"143\" x2=\"639\" y2=\"143\"/>\n",
       "<line opacity=\"0.1\" stroke=\"#000000\" stroke-width=\"1\" x1=\"40\" y1=\"136\" x2=\"639\" y2=\"136\"/>\n",
       "<line opacity=\"0.1\" stroke=\"#000000\" stroke-width=\"1\" x1=\"40\" y1=\"130\" x2=\"639\" y2=\"130\"/>\n",
       "<line opacity=\"0.1\" stroke=\"#000000\" stroke-width=\"1\" x1=\"40\" y1=\"123\" x2=\"639\" y2=\"123\"/>\n",
       "<line opacity=\"0.1\" stroke=\"#000000\" stroke-width=\"1\" x1=\"40\" y1=\"116\" x2=\"639\" y2=\"116\"/>\n",
       "<line opacity=\"0.1\" stroke=\"#000000\" stroke-width=\"1\" x1=\"40\" y1=\"110\" x2=\"639\" y2=\"110\"/>\n",
       "<line opacity=\"0.1\" stroke=\"#000000\" stroke-width=\"1\" x1=\"40\" y1=\"103\" x2=\"639\" y2=\"103\"/>\n",
       "<line opacity=\"0.1\" stroke=\"#000000\" stroke-width=\"1\" x1=\"40\" y1=\"96\" x2=\"639\" y2=\"96\"/>\n",
       "<line opacity=\"0.1\" stroke=\"#000000\" stroke-width=\"1\" x1=\"40\" y1=\"89\" x2=\"639\" y2=\"89\"/>\n",
       "<line opacity=\"0.1\" stroke=\"#000000\" stroke-width=\"1\" x1=\"40\" y1=\"83\" x2=\"639\" y2=\"83\"/>\n",
       "<line opacity=\"0.1\" stroke=\"#000000\" stroke-width=\"1\" x1=\"40\" y1=\"76\" x2=\"639\" y2=\"76\"/>\n",
       "<line opacity=\"0.1\" stroke=\"#000000\" stroke-width=\"1\" x1=\"40\" y1=\"69\" x2=\"639\" y2=\"69\"/>\n",
       "<line opacity=\"0.1\" stroke=\"#000000\" stroke-width=\"1\" x1=\"40\" y1=\"62\" x2=\"639\" y2=\"62\"/>\n",
       "<line opacity=\"0.1\" stroke=\"#000000\" stroke-width=\"1\" x1=\"40\" y1=\"56\" x2=\"639\" y2=\"56\"/>\n",
       "<line opacity=\"0.1\" stroke=\"#000000\" stroke-width=\"1\" x1=\"40\" y1=\"49\" x2=\"639\" y2=\"49\"/>\n",
       "<line opacity=\"0.1\" stroke=\"#000000\" stroke-width=\"1\" x1=\"40\" y1=\"42\" x2=\"639\" y2=\"42\"/>\n",
       "<line opacity=\"0.1\" stroke=\"#000000\" stroke-width=\"1\" x1=\"40\" y1=\"35\" x2=\"639\" y2=\"35\"/>\n",
       "<text x=\"0\" y=\"237\" dy=\"0.76em\" text-anchor=\"middle\" font-family=\"sans-serif\" font-size=\"9.67741935483871\" opacity=\"1\" fill=\"#000000\" transform=\"rotate(270, 0, 237)\">\n",
       "Sepal Width (cm)\n",
       "</text>\n",
       "<text x=\"340\" y=\"480\" dy=\"-0.5ex\" text-anchor=\"middle\" font-family=\"sans-serif\" font-size=\"9.67741935483871\" opacity=\"1\" fill=\"#000000\">\n",
       "Sepal Length (cm)\n",
       "</text>\n",
       "<line opacity=\"0.2\" stroke=\"#000000\" stroke-width=\"1\" x1=\"40\" y1=\"439\" x2=\"40\" y2=\"35\"/>\n",
       "<line opacity=\"0.2\" stroke=\"#000000\" stroke-width=\"1\" x1=\"114\" y1=\"439\" x2=\"114\" y2=\"35\"/>\n",
       "<line opacity=\"0.2\" stroke=\"#000000\" stroke-width=\"1\" x1=\"189\" y1=\"439\" x2=\"189\" y2=\"35\"/>\n",
       "<line opacity=\"0.2\" stroke=\"#000000\" stroke-width=\"1\" x1=\"264\" y1=\"439\" x2=\"264\" y2=\"35\"/>\n",
       "<line opacity=\"0.2\" stroke=\"#000000\" stroke-width=\"1\" x1=\"339\" y1=\"439\" x2=\"339\" y2=\"35\"/>\n",
       "<line opacity=\"0.2\" stroke=\"#000000\" stroke-width=\"1\" x1=\"414\" y1=\"439\" x2=\"414\" y2=\"35\"/>\n",
       "<line opacity=\"0.2\" stroke=\"#000000\" stroke-width=\"1\" x1=\"489\" y1=\"439\" x2=\"489\" y2=\"35\"/>\n",
       "<line opacity=\"0.2\" stroke=\"#000000\" stroke-width=\"1\" x1=\"564\" y1=\"439\" x2=\"564\" y2=\"35\"/>\n",
       "<line opacity=\"0.2\" stroke=\"#000000\" stroke-width=\"1\" x1=\"639\" y1=\"439\" x2=\"639\" y2=\"35\"/>\n",
       "<line opacity=\"0.2\" stroke=\"#000000\" stroke-width=\"1\" x1=\"40\" y1=\"439\" x2=\"639\" y2=\"439\"/>\n",
       "<line opacity=\"0.2\" stroke=\"#000000\" stroke-width=\"1\" x1=\"40\" y1=\"372\" x2=\"639\" y2=\"372\"/>\n",
       "<line opacity=\"0.2\" stroke=\"#000000\" stroke-width=\"1\" x1=\"40\" y1=\"305\" x2=\"639\" y2=\"305\"/>\n",
       "<line opacity=\"0.2\" stroke=\"#000000\" stroke-width=\"1\" x1=\"40\" y1=\"237\" x2=\"639\" y2=\"237\"/>\n",
       "<line opacity=\"0.2\" stroke=\"#000000\" stroke-width=\"1\" x1=\"40\" y1=\"170\" x2=\"639\" y2=\"170\"/>\n",
       "<line opacity=\"0.2\" stroke=\"#000000\" stroke-width=\"1\" x1=\"40\" y1=\"103\" x2=\"639\" y2=\"103\"/>\n",
       "<line opacity=\"0.2\" stroke=\"#000000\" stroke-width=\"1\" x1=\"40\" y1=\"35\" x2=\"639\" y2=\"35\"/>\n",
       "<polyline fill=\"none\" opacity=\"1\" stroke=\"#000000\" stroke-width=\"1\" points=\"39,35 39,439 \"/>\n",
       "<text x=\"30\" y=\"439\" dy=\"0.5ex\" text-anchor=\"end\" font-family=\"sans-serif\" font-size=\"9.67741935483871\" opacity=\"1\" fill=\"#000000\">\n",
       "3.0\n",
       "</text>\n",
       "<polyline fill=\"none\" opacity=\"1\" stroke=\"#000000\" stroke-width=\"1\" points=\"34,439 39,439 \"/>\n",
       "<text x=\"30\" y=\"372\" dy=\"0.5ex\" text-anchor=\"end\" font-family=\"sans-serif\" font-size=\"9.67741935483871\" opacity=\"1\" fill=\"#000000\">\n",
       "4.0\n",
       "</text>\n",
       "<polyline fill=\"none\" opacity=\"1\" stroke=\"#000000\" stroke-width=\"1\" points=\"34,372 39,372 \"/>\n",
       "<text x=\"30\" y=\"305\" dy=\"0.5ex\" text-anchor=\"end\" font-family=\"sans-serif\" font-size=\"9.67741935483871\" opacity=\"1\" fill=\"#000000\">\n",
       "5.0\n",
       "</text>\n",
       "<polyline fill=\"none\" opacity=\"1\" stroke=\"#000000\" stroke-width=\"1\" points=\"34,305 39,305 \"/>\n",
       "<text x=\"30\" y=\"237\" dy=\"0.5ex\" text-anchor=\"end\" font-family=\"sans-serif\" font-size=\"9.67741935483871\" opacity=\"1\" fill=\"#000000\">\n",
       "6.0\n",
       "</text>\n",
       "<polyline fill=\"none\" opacity=\"1\" stroke=\"#000000\" stroke-width=\"1\" points=\"34,237 39,237 \"/>\n",
       "<text x=\"30\" y=\"170\" dy=\"0.5ex\" text-anchor=\"end\" font-family=\"sans-serif\" font-size=\"9.67741935483871\" opacity=\"1\" fill=\"#000000\">\n",
       "7.0\n",
       "</text>\n",
       "<polyline fill=\"none\" opacity=\"1\" stroke=\"#000000\" stroke-width=\"1\" points=\"34,170 39,170 \"/>\n",
       "<text x=\"30\" y=\"103\" dy=\"0.5ex\" text-anchor=\"end\" font-family=\"sans-serif\" font-size=\"9.67741935483871\" opacity=\"1\" fill=\"#000000\">\n",
       "8.0\n",
       "</text>\n",
       "<polyline fill=\"none\" opacity=\"1\" stroke=\"#000000\" stroke-width=\"1\" points=\"34,103 39,103 \"/>\n",
       "<text x=\"30\" y=\"35\" dy=\"0.5ex\" text-anchor=\"end\" font-family=\"sans-serif\" font-size=\"9.67741935483871\" opacity=\"1\" fill=\"#000000\">\n",
       "9.0\n",
       "</text>\n",
       "<polyline fill=\"none\" opacity=\"1\" stroke=\"#000000\" stroke-width=\"1\" points=\"34,35 39,35 \"/>\n",
       "<polyline fill=\"none\" opacity=\"1\" stroke=\"#000000\" stroke-width=\"1\" points=\"40,440 639,440 \"/>\n",
       "<text x=\"40\" y=\"450\" dy=\"0.76em\" text-anchor=\"middle\" font-family=\"sans-serif\" font-size=\"9.67741935483871\" opacity=\"1\" fill=\"#000000\">\n",
       "1.0\n",
       "</text>\n",
       "<polyline fill=\"none\" opacity=\"1\" stroke=\"#000000\" stroke-width=\"1\" points=\"40,440 40,445 \"/>\n",
       "<text x=\"114\" y=\"450\" dy=\"0.76em\" text-anchor=\"middle\" font-family=\"sans-serif\" font-size=\"9.67741935483871\" opacity=\"1\" fill=\"#000000\">\n",
       "1.5\n",
       "</text>\n",
       "<polyline fill=\"none\" opacity=\"1\" stroke=\"#000000\" stroke-width=\"1\" points=\"114,440 114,445 \"/>\n",
       "<text x=\"189\" y=\"450\" dy=\"0.76em\" text-anchor=\"middle\" font-family=\"sans-serif\" font-size=\"9.67741935483871\" opacity=\"1\" fill=\"#000000\">\n",
       "2.0\n",
       "</text>\n",
       "<polyline fill=\"none\" opacity=\"1\" stroke=\"#000000\" stroke-width=\"1\" points=\"189,440 189,445 \"/>\n",
       "<text x=\"264\" y=\"450\" dy=\"0.76em\" text-anchor=\"middle\" font-family=\"sans-serif\" font-size=\"9.67741935483871\" opacity=\"1\" fill=\"#000000\">\n",
       "2.5\n",
       "</text>\n",
       "<polyline fill=\"none\" opacity=\"1\" stroke=\"#000000\" stroke-width=\"1\" points=\"264,440 264,445 \"/>\n",
       "<text x=\"339\" y=\"450\" dy=\"0.76em\" text-anchor=\"middle\" font-family=\"sans-serif\" font-size=\"9.67741935483871\" opacity=\"1\" fill=\"#000000\">\n",
       "3.0\n",
       "</text>\n",
       "<polyline fill=\"none\" opacity=\"1\" stroke=\"#000000\" stroke-width=\"1\" points=\"339,440 339,445 \"/>\n",
       "<text x=\"414\" y=\"450\" dy=\"0.76em\" text-anchor=\"middle\" font-family=\"sans-serif\" font-size=\"9.67741935483871\" opacity=\"1\" fill=\"#000000\">\n",
       "3.5\n",
       "</text>\n",
       "<polyline fill=\"none\" opacity=\"1\" stroke=\"#000000\" stroke-width=\"1\" points=\"414,440 414,445 \"/>\n",
       "<text x=\"489\" y=\"450\" dy=\"0.76em\" text-anchor=\"middle\" font-family=\"sans-serif\" font-size=\"9.67741935483871\" opacity=\"1\" fill=\"#000000\">\n",
       "4.0\n",
       "</text>\n",
       "<polyline fill=\"none\" opacity=\"1\" stroke=\"#000000\" stroke-width=\"1\" points=\"489,440 489,445 \"/>\n",
       "<text x=\"564\" y=\"450\" dy=\"0.76em\" text-anchor=\"middle\" font-family=\"sans-serif\" font-size=\"9.67741935483871\" opacity=\"1\" fill=\"#000000\">\n",
       "4.5\n",
       "</text>\n",
       "<polyline fill=\"none\" opacity=\"1\" stroke=\"#000000\" stroke-width=\"1\" points=\"564,440 564,445 \"/>\n",
       "<text x=\"639\" y=\"450\" dy=\"0.76em\" text-anchor=\"middle\" font-family=\"sans-serif\" font-size=\"9.67741935483871\" opacity=\"1\" fill=\"#000000\">\n",
       "5.0\n",
       "</text>\n",
       "<polyline fill=\"none\" opacity=\"1\" stroke=\"#000000\" stroke-width=\"1\" points=\"639,440 639,445 \"/>\n",
       "<circle cx=\"414\" cy=\"298\" r=\"3\" opacity=\"1\" fill=\"#0000FF\" stroke=\"none\" stroke-width=\"1\"/>\n",
       "<circle cx=\"339\" cy=\"312\" r=\"3\" opacity=\"1\" fill=\"#0000FF\" stroke=\"none\" stroke-width=\"1\"/>\n",
       "<circle cx=\"369\" cy=\"325\" r=\"3\" opacity=\"1\" fill=\"#0000FF\" stroke=\"none\" stroke-width=\"1\"/>\n",
       "<circle cx=\"354\" cy=\"332\" r=\"3\" opacity=\"1\" fill=\"#0000FF\" stroke=\"none\" stroke-width=\"1\"/>\n",
       "<circle cx=\"429\" cy=\"305\" r=\"3\" opacity=\"1\" fill=\"#0000FF\" stroke=\"none\" stroke-width=\"1\"/>\n",
       "<circle cx=\"474\" cy=\"278\" r=\"3\" opacity=\"1\" fill=\"#0000FF\" stroke=\"none\" stroke-width=\"1\"/>\n",
       "<circle cx=\"399\" cy=\"332\" r=\"3\" opacity=\"1\" fill=\"#0000FF\" stroke=\"none\" stroke-width=\"1\"/>\n",
       "<circle cx=\"399\" cy=\"305\" r=\"3\" opacity=\"1\" fill=\"#0000FF\" stroke=\"none\" stroke-width=\"1\"/>\n",
       "<circle cx=\"324\" cy=\"345\" r=\"3\" opacity=\"1\" fill=\"#0000FF\" stroke=\"none\" stroke-width=\"1\"/>\n",
       "<circle cx=\"354\" cy=\"312\" r=\"3\" opacity=\"1\" fill=\"#0000FF\" stroke=\"none\" stroke-width=\"1\"/>\n",
       "<circle cx=\"444\" cy=\"278\" r=\"3\" opacity=\"1\" fill=\"#0000FF\" stroke=\"none\" stroke-width=\"1\"/>\n",
       "<circle cx=\"399\" cy=\"318\" r=\"3\" opacity=\"1\" fill=\"#0000FF\" stroke=\"none\" stroke-width=\"1\"/>\n",
       "<circle cx=\"339\" cy=\"318\" r=\"3\" opacity=\"1\" fill=\"#0000FF\" stroke=\"none\" stroke-width=\"1\"/>\n",
       "<circle cx=\"339\" cy=\"352\" r=\"3\" opacity=\"1\" fill=\"#0000FF\" stroke=\"none\" stroke-width=\"1\"/>\n",
       "<circle cx=\"489\" cy=\"251\" r=\"3\" opacity=\"1\" fill=\"#0000FF\" stroke=\"none\" stroke-width=\"1\"/>\n",
       "<circle cx=\"549\" cy=\"258\" r=\"3\" opacity=\"1\" fill=\"#0000FF\" stroke=\"none\" stroke-width=\"1\"/>\n",
       "<circle cx=\"474\" cy=\"278\" r=\"3\" opacity=\"1\" fill=\"#0000FF\" stroke=\"none\" stroke-width=\"1\"/>\n",
       "<circle cx=\"414\" cy=\"298\" r=\"3\" opacity=\"1\" fill=\"#0000FF\" stroke=\"none\" stroke-width=\"1\"/>\n",
       "<circle cx=\"459\" cy=\"258\" r=\"3\" opacity=\"1\" fill=\"#0000FF\" stroke=\"none\" stroke-width=\"1\"/>\n",
       "<circle cx=\"459\" cy=\"298\" r=\"3\" opacity=\"1\" fill=\"#0000FF\" stroke=\"none\" stroke-width=\"1\"/>\n",
       "<circle cx=\"399\" cy=\"278\" r=\"3\" opacity=\"1\" fill=\"#0000FF\" stroke=\"none\" stroke-width=\"1\"/>\n",
       "<circle cx=\"444\" cy=\"298\" r=\"3\" opacity=\"1\" fill=\"#0000FF\" stroke=\"none\" stroke-width=\"1\"/>\n",
       "<circle cx=\"429\" cy=\"332\" r=\"3\" opacity=\"1\" fill=\"#0000FF\" stroke=\"none\" stroke-width=\"1\"/>\n",
       "<circle cx=\"384\" cy=\"298\" r=\"3\" opacity=\"1\" fill=\"#0000FF\" stroke=\"none\" stroke-width=\"1\"/>\n",
       "<circle cx=\"399\" cy=\"318\" r=\"3\" opacity=\"1\" fill=\"#0000FF\" stroke=\"none\" stroke-width=\"1\"/>\n",
       "<circle cx=\"339\" cy=\"305\" r=\"3\" opacity=\"1\" fill=\"#0000FF\" stroke=\"none\" stroke-width=\"1\"/>\n",
       "<circle cx=\"399\" cy=\"305\" r=\"3\" opacity=\"1\" fill=\"#0000FF\" stroke=\"none\" stroke-width=\"1\"/>\n",
       "<circle cx=\"414\" cy=\"291\" r=\"3\" opacity=\"1\" fill=\"#0000FF\" stroke=\"none\" stroke-width=\"1\"/>\n",
       "<circle cx=\"399\" cy=\"291\" r=\"3\" opacity=\"1\" fill=\"#0000FF\" stroke=\"none\" stroke-width=\"1\"/>\n",
       "<circle cx=\"369\" cy=\"325\" r=\"3\" opacity=\"1\" fill=\"#0000FF\" stroke=\"none\" stroke-width=\"1\"/>\n",
       "<circle cx=\"354\" cy=\"318\" r=\"3\" opacity=\"1\" fill=\"#0000FF\" stroke=\"none\" stroke-width=\"1\"/>\n",
       "<circle cx=\"399\" cy=\"278\" r=\"3\" opacity=\"1\" fill=\"#0000FF\" stroke=\"none\" stroke-width=\"1\"/>\n",
       "<circle cx=\"504\" cy=\"291\" r=\"3\" opacity=\"1\" fill=\"#0000FF\" stroke=\"none\" stroke-width=\"1\"/>\n",
       "<circle cx=\"519\" cy=\"271\" r=\"3\" opacity=\"1\" fill=\"#0000FF\" stroke=\"none\" stroke-width=\"1\"/>\n",
       "<circle cx=\"354\" cy=\"312\" r=\"3\" opacity=\"1\" fill=\"#0000FF\" stroke=\"none\" stroke-width=\"1\"/>\n",
       "<circle cx=\"369\" cy=\"305\" r=\"3\" opacity=\"1\" fill=\"#0000FF\" stroke=\"none\" stroke-width=\"1\"/>\n",
       "<circle cx=\"414\" cy=\"271\" r=\"3\" opacity=\"1\" fill=\"#0000FF\" stroke=\"none\" stroke-width=\"1\"/>\n",
       "<circle cx=\"354\" cy=\"312\" r=\"3\" opacity=\"1\" fill=\"#0000FF\" stroke=\"none\" stroke-width=\"1\"/>\n",
       "<circle cx=\"339\" cy=\"345\" r=\"3\" opacity=\"1\" fill=\"#0000FF\" stroke=\"none\" stroke-width=\"1\"/>\n",
       "<circle cx=\"399\" cy=\"298\" r=\"3\" opacity=\"1\" fill=\"#0000FF\" stroke=\"none\" stroke-width=\"1\"/>\n",
       "<circle cx=\"414\" cy=\"305\" r=\"3\" opacity=\"1\" fill=\"#0000FF\" stroke=\"none\" stroke-width=\"1\"/>\n",
       "<circle cx=\"234\" cy=\"338\" r=\"3\" opacity=\"1\" fill=\"#0000FF\" stroke=\"none\" stroke-width=\"1\"/>\n",
       "<circle cx=\"369\" cy=\"345\" r=\"3\" opacity=\"1\" fill=\"#0000FF\" stroke=\"none\" stroke-width=\"1\"/>\n",
       "<circle cx=\"414\" cy=\"305\" r=\"3\" opacity=\"1\" fill=\"#0000FF\" stroke=\"none\" stroke-width=\"1\"/>\n",
       "<circle cx=\"459\" cy=\"298\" r=\"3\" opacity=\"1\" fill=\"#0000FF\" stroke=\"none\" stroke-width=\"1\"/>\n",
       "<circle cx=\"339\" cy=\"318\" r=\"3\" opacity=\"1\" fill=\"#0000FF\" stroke=\"none\" stroke-width=\"1\"/>\n",
       "<circle cx=\"459\" cy=\"298\" r=\"3\" opacity=\"1\" fill=\"#0000FF\" stroke=\"none\" stroke-width=\"1\"/>\n",
       "<circle cx=\"369\" cy=\"332\" r=\"3\" opacity=\"1\" fill=\"#0000FF\" stroke=\"none\" stroke-width=\"1\"/>\n",
       "<circle cx=\"444\" cy=\"285\" r=\"3\" opacity=\"1\" fill=\"#0000FF\" stroke=\"none\" stroke-width=\"1\"/>\n",
       "<circle cx=\"384\" cy=\"305\" r=\"3\" opacity=\"1\" fill=\"#0000FF\" stroke=\"none\" stroke-width=\"1\"/>\n",
       "<circle cx=\"369\" cy=\"170\" r=\"3\" opacity=\"1\" fill=\"#0000FF\" stroke=\"none\" stroke-width=\"1\"/>\n",
       "<circle cx=\"369\" cy=\"211\" r=\"3\" opacity=\"1\" fill=\"#0000FF\" stroke=\"none\" stroke-width=\"1\"/>\n",
       "<circle cx=\"354\" cy=\"177\" r=\"3\" opacity=\"1\" fill=\"#0000FF\" stroke=\"none\" stroke-width=\"1\"/>\n",
       "<circle cx=\"234\" cy=\"271\" r=\"3\" opacity=\"1\" fill=\"#0000FF\" stroke=\"none\" stroke-width=\"1\"/>\n",
       "<circle cx=\"309\" cy=\"204\" r=\"3\" opacity=\"1\" fill=\"#0000FF\" stroke=\"none\" stroke-width=\"1\"/>\n",
       "<circle cx=\"309\" cy=\"258\" r=\"3\" opacity=\"1\" fill=\"#0000FF\" stroke=\"none\" stroke-width=\"1\"/>\n",
       "<circle cx=\"384\" cy=\"217\" r=\"3\" opacity=\"1\" fill=\"#0000FF\" stroke=\"none\" stroke-width=\"1\"/>\n",
       "<circle cx=\"249\" cy=\"312\" r=\"3\" opacity=\"1\" fill=\"#0000FF\" stroke=\"none\" stroke-width=\"1\"/>\n",
       "<circle cx=\"324\" cy=\"197\" r=\"3\" opacity=\"1\" fill=\"#0000FF\" stroke=\"none\" stroke-width=\"1\"/>\n",
       "<circle cx=\"294\" cy=\"291\" r=\"3\" opacity=\"1\" fill=\"#0000FF\" stroke=\"none\" stroke-width=\"1\"/>\n",
       "<circle cx=\"189\" cy=\"305\" r=\"3\" opacity=\"1\" fill=\"#0000FF\" stroke=\"none\" stroke-width=\"1\"/>\n",
       "<circle cx=\"339\" cy=\"244\" r=\"3\" opacity=\"1\" fill=\"#0000FF\" stroke=\"none\" stroke-width=\"1\"/>\n",
       "<circle cx=\"219\" cy=\"237\" r=\"3\" opacity=\"1\" fill=\"#0000FF\" stroke=\"none\" stroke-width=\"1\"/>\n",
       "<circle cx=\"324\" cy=\"231\" r=\"3\" opacity=\"1\" fill=\"#0000FF\" stroke=\"none\" stroke-width=\"1\"/>\n",
       "<circle cx=\"324\" cy=\"264\" r=\"3\" opacity=\"1\" fill=\"#0000FF\" stroke=\"none\" stroke-width=\"1\"/>\n",
       "<circle cx=\"354\" cy=\"190\" r=\"3\" opacity=\"1\" fill=\"#0000FF\" stroke=\"none\" stroke-width=\"1\"/>\n",
       "<circle cx=\"339\" cy=\"264\" r=\"3\" opacity=\"1\" fill=\"#0000FF\" stroke=\"none\" stroke-width=\"1\"/>\n",
       "<circle cx=\"294\" cy=\"251\" r=\"3\" opacity=\"1\" fill=\"#0000FF\" stroke=\"none\" stroke-width=\"1\"/>\n",
       "<circle cx=\"219\" cy=\"224\" r=\"3\" opacity=\"1\" fill=\"#0000FF\" stroke=\"none\" stroke-width=\"1\"/>\n",
       "<circle cx=\"264\" cy=\"264\" r=\"3\" opacity=\"1\" fill=\"#0000FF\" stroke=\"none\" stroke-width=\"1\"/>\n",
       "<circle cx=\"369\" cy=\"244\" r=\"3\" opacity=\"1\" fill=\"#0000FF\" stroke=\"none\" stroke-width=\"1\"/>\n",
       "<circle cx=\"309\" cy=\"231\" r=\"3\" opacity=\"1\" fill=\"#0000FF\" stroke=\"none\" stroke-width=\"1\"/>\n",
       "<circle cx=\"264\" cy=\"217\" r=\"3\" opacity=\"1\" fill=\"#0000FF\" stroke=\"none\" stroke-width=\"1\"/>\n",
       "<circle cx=\"309\" cy=\"231\" r=\"3\" opacity=\"1\" fill=\"#0000FF\" stroke=\"none\" stroke-width=\"1\"/>\n",
       "<circle cx=\"324\" cy=\"211\" r=\"3\" opacity=\"1\" fill=\"#0000FF\" stroke=\"none\" stroke-width=\"1\"/>\n",
       "<circle cx=\"339\" cy=\"197\" r=\"3\" opacity=\"1\" fill=\"#0000FF\" stroke=\"none\" stroke-width=\"1\"/>\n",
       "<circle cx=\"309\" cy=\"184\" r=\"3\" opacity=\"1\" fill=\"#0000FF\" stroke=\"none\" stroke-width=\"1\"/>\n",
       "<circle cx=\"339\" cy=\"190\" r=\"3\" opacity=\"1\" fill=\"#0000FF\" stroke=\"none\" stroke-width=\"1\"/>\n",
       "<circle cx=\"324\" cy=\"237\" r=\"3\" opacity=\"1\" fill=\"#0000FF\" stroke=\"none\" stroke-width=\"1\"/>\n",
       "<circle cx=\"279\" cy=\"258\" r=\"3\" opacity=\"1\" fill=\"#0000FF\" stroke=\"none\" stroke-width=\"1\"/>\n",
       "<circle cx=\"249\" cy=\"271\" r=\"3\" opacity=\"1\" fill=\"#0000FF\" stroke=\"none\" stroke-width=\"1\"/>\n",
       "<circle cx=\"249\" cy=\"271\" r=\"3\" opacity=\"1\" fill=\"#0000FF\" stroke=\"none\" stroke-width=\"1\"/>\n",
       "<circle cx=\"294\" cy=\"251\" r=\"3\" opacity=\"1\" fill=\"#0000FF\" stroke=\"none\" stroke-width=\"1\"/>\n",
       "<circle cx=\"294\" cy=\"237\" r=\"3\" opacity=\"1\" fill=\"#0000FF\" stroke=\"none\" stroke-width=\"1\"/>\n",
       "<circle cx=\"339\" cy=\"278\" r=\"3\" opacity=\"1\" fill=\"#0000FF\" stroke=\"none\" stroke-width=\"1\"/>\n",
       "<circle cx=\"399\" cy=\"237\" r=\"3\" opacity=\"1\" fill=\"#0000FF\" stroke=\"none\" stroke-width=\"1\"/>\n",
       "<circle cx=\"354\" cy=\"190\" r=\"3\" opacity=\"1\" fill=\"#0000FF\" stroke=\"none\" stroke-width=\"1\"/>\n",
       "<circle cx=\"234\" cy=\"217\" r=\"3\" opacity=\"1\" fill=\"#0000FF\" stroke=\"none\" stroke-width=\"1\"/>\n",
       "<circle cx=\"339\" cy=\"264\" r=\"3\" opacity=\"1\" fill=\"#0000FF\" stroke=\"none\" stroke-width=\"1\"/>\n",
       "<circle cx=\"264\" cy=\"271\" r=\"3\" opacity=\"1\" fill=\"#0000FF\" stroke=\"none\" stroke-width=\"1\"/>\n",
       "<circle cx=\"279\" cy=\"271\" r=\"3\" opacity=\"1\" fill=\"#0000FF\" stroke=\"none\" stroke-width=\"1\"/>\n",
       "<circle cx=\"339\" cy=\"231\" r=\"3\" opacity=\"1\" fill=\"#0000FF\" stroke=\"none\" stroke-width=\"1\"/>\n",
       "<circle cx=\"279\" cy=\"251\" r=\"3\" opacity=\"1\" fill=\"#0000FF\" stroke=\"none\" stroke-width=\"1\"/>\n",
       "<circle cx=\"234\" cy=\"305\" r=\"3\" opacity=\"1\" fill=\"#0000FF\" stroke=\"none\" stroke-width=\"1\"/>\n",
       "<circle cx=\"294\" cy=\"264\" r=\"3\" opacity=\"1\" fill=\"#0000FF\" stroke=\"none\" stroke-width=\"1\"/>\n",
       "<circle cx=\"339\" cy=\"258\" r=\"3\" opacity=\"1\" fill=\"#0000FF\" stroke=\"none\" stroke-width=\"1\"/>\n",
       "<circle cx=\"324\" cy=\"258\" r=\"3\" opacity=\"1\" fill=\"#0000FF\" stroke=\"none\" stroke-width=\"1\"/>\n",
       "<circle cx=\"324\" cy=\"224\" r=\"3\" opacity=\"1\" fill=\"#0000FF\" stroke=\"none\" stroke-width=\"1\"/>\n",
       "<circle cx=\"264\" cy=\"298\" r=\"3\" opacity=\"1\" fill=\"#0000FF\" stroke=\"none\" stroke-width=\"1\"/>\n",
       "<circle cx=\"309\" cy=\"258\" r=\"3\" opacity=\"1\" fill=\"#0000FF\" stroke=\"none\" stroke-width=\"1\"/>\n",
       "<circle cx=\"384\" cy=\"217\" r=\"3\" opacity=\"1\" fill=\"#0000FF\" stroke=\"none\" stroke-width=\"1\"/>\n",
       "<circle cx=\"294\" cy=\"251\" r=\"3\" opacity=\"1\" fill=\"#0000FF\" stroke=\"none\" stroke-width=\"1\"/>\n",
       "<circle cx=\"339\" cy=\"163\" r=\"3\" opacity=\"1\" fill=\"#0000FF\" stroke=\"none\" stroke-width=\"1\"/>\n",
       "<circle cx=\"324\" cy=\"217\" r=\"3\" opacity=\"1\" fill=\"#0000FF\" stroke=\"none\" stroke-width=\"1\"/>\n",
       "<circle cx=\"339\" cy=\"204\" r=\"3\" opacity=\"1\" fill=\"#0000FF\" stroke=\"none\" stroke-width=\"1\"/>\n",
       "<circle cx=\"339\" cy=\"130\" r=\"3\" opacity=\"1\" fill=\"#0000FF\" stroke=\"none\" stroke-width=\"1\"/>\n",
       "<circle cx=\"264\" cy=\"312\" r=\"3\" opacity=\"1\" fill=\"#0000FF\" stroke=\"none\" stroke-width=\"1\"/>\n",
       "<circle cx=\"324\" cy=\"150\" r=\"3\" opacity=\"1\" fill=\"#0000FF\" stroke=\"none\" stroke-width=\"1\"/>\n",
       "<circle cx=\"264\" cy=\"190\" r=\"3\" opacity=\"1\" fill=\"#0000FF\" stroke=\"none\" stroke-width=\"1\"/>\n",
       "<circle cx=\"429\" cy=\"157\" r=\"3\" opacity=\"1\" fill=\"#0000FF\" stroke=\"none\" stroke-width=\"1\"/>\n",
       "<circle cx=\"369\" cy=\"204\" r=\"3\" opacity=\"1\" fill=\"#0000FF\" stroke=\"none\" stroke-width=\"1\"/>\n",
       "<circle cx=\"294\" cy=\"211\" r=\"3\" opacity=\"1\" fill=\"#0000FF\" stroke=\"none\" stroke-width=\"1\"/>\n",
       "<circle cx=\"339\" cy=\"184\" r=\"3\" opacity=\"1\" fill=\"#0000FF\" stroke=\"none\" stroke-width=\"1\"/>\n",
       "<circle cx=\"264\" cy=\"258\" r=\"3\" opacity=\"1\" fill=\"#0000FF\" stroke=\"none\" stroke-width=\"1\"/>\n",
       "<circle cx=\"309\" cy=\"251\" r=\"3\" opacity=\"1\" fill=\"#0000FF\" stroke=\"none\" stroke-width=\"1\"/>\n",
       "<circle cx=\"369\" cy=\"211\" r=\"3\" opacity=\"1\" fill=\"#0000FF\" stroke=\"none\" stroke-width=\"1\"/>\n",
       "<circle cx=\"339\" cy=\"204\" r=\"3\" opacity=\"1\" fill=\"#0000FF\" stroke=\"none\" stroke-width=\"1\"/>\n",
       "<circle cx=\"459\" cy=\"123\" r=\"3\" opacity=\"1\" fill=\"#0000FF\" stroke=\"none\" stroke-width=\"1\"/>\n",
       "<circle cx=\"279\" cy=\"123\" r=\"3\" opacity=\"1\" fill=\"#0000FF\" stroke=\"none\" stroke-width=\"1\"/>\n",
       "<circle cx=\"219\" cy=\"237\" r=\"3\" opacity=\"1\" fill=\"#0000FF\" stroke=\"none\" stroke-width=\"1\"/>\n",
       "<circle cx=\"369\" cy=\"177\" r=\"3\" opacity=\"1\" fill=\"#0000FF\" stroke=\"none\" stroke-width=\"1\"/>\n",
       "<circle cx=\"309\" cy=\"264\" r=\"3\" opacity=\"1\" fill=\"#0000FF\" stroke=\"none\" stroke-width=\"1\"/>\n",
       "<circle cx=\"309\" cy=\"123\" r=\"3\" opacity=\"1\" fill=\"#0000FF\" stroke=\"none\" stroke-width=\"1\"/>\n",
       "<circle cx=\"294\" cy=\"217\" r=\"3\" opacity=\"1\" fill=\"#0000FF\" stroke=\"none\" stroke-width=\"1\"/>\n",
       "<circle cx=\"384\" cy=\"190\" r=\"3\" opacity=\"1\" fill=\"#0000FF\" stroke=\"none\" stroke-width=\"1\"/>\n",
       "<circle cx=\"369\" cy=\"157\" r=\"3\" opacity=\"1\" fill=\"#0000FF\" stroke=\"none\" stroke-width=\"1\"/>\n",
       "<circle cx=\"309\" cy=\"224\" r=\"3\" opacity=\"1\" fill=\"#0000FF\" stroke=\"none\" stroke-width=\"1\"/>\n",
       "<circle cx=\"339\" cy=\"231\" r=\"3\" opacity=\"1\" fill=\"#0000FF\" stroke=\"none\" stroke-width=\"1\"/>\n",
       "<circle cx=\"309\" cy=\"211\" r=\"3\" opacity=\"1\" fill=\"#0000FF\" stroke=\"none\" stroke-width=\"1\"/>\n",
       "<circle cx=\"339\" cy=\"157\" r=\"3\" opacity=\"1\" fill=\"#0000FF\" stroke=\"none\" stroke-width=\"1\"/>\n",
       "<circle cx=\"309\" cy=\"143\" r=\"3\" opacity=\"1\" fill=\"#0000FF\" stroke=\"none\" stroke-width=\"1\"/>\n",
       "<circle cx=\"459\" cy=\"110\" r=\"3\" opacity=\"1\" fill=\"#0000FF\" stroke=\"none\" stroke-width=\"1\"/>\n",
       "<circle cx=\"309\" cy=\"211\" r=\"3\" opacity=\"1\" fill=\"#0000FF\" stroke=\"none\" stroke-width=\"1\"/>\n",
       "<circle cx=\"309\" cy=\"217\" r=\"3\" opacity=\"1\" fill=\"#0000FF\" stroke=\"none\" stroke-width=\"1\"/>\n",
       "<circle cx=\"279\" cy=\"231\" r=\"3\" opacity=\"1\" fill=\"#0000FF\" stroke=\"none\" stroke-width=\"1\"/>\n",
       "<circle cx=\"339\" cy=\"123\" r=\"3\" opacity=\"1\" fill=\"#0000FF\" stroke=\"none\" stroke-width=\"1\"/>\n",
       "<circle cx=\"399\" cy=\"217\" r=\"3\" opacity=\"1\" fill=\"#0000FF\" stroke=\"none\" stroke-width=\"1\"/>\n",
       "<circle cx=\"354\" cy=\"211\" r=\"3\" opacity=\"1\" fill=\"#0000FF\" stroke=\"none\" stroke-width=\"1\"/>\n",
       "<circle cx=\"339\" cy=\"237\" r=\"3\" opacity=\"1\" fill=\"#0000FF\" stroke=\"none\" stroke-width=\"1\"/>\n",
       "<circle cx=\"354\" cy=\"177\" r=\"3\" opacity=\"1\" fill=\"#0000FF\" stroke=\"none\" stroke-width=\"1\"/>\n",
       "<circle cx=\"354\" cy=\"190\" r=\"3\" opacity=\"1\" fill=\"#0000FF\" stroke=\"none\" stroke-width=\"1\"/>\n",
       "<circle cx=\"354\" cy=\"177\" r=\"3\" opacity=\"1\" fill=\"#0000FF\" stroke=\"none\" stroke-width=\"1\"/>\n",
       "<circle cx=\"294\" cy=\"251\" r=\"3\" opacity=\"1\" fill=\"#0000FF\" stroke=\"none\" stroke-width=\"1\"/>\n",
       "<circle cx=\"369\" cy=\"184\" r=\"3\" opacity=\"1\" fill=\"#0000FF\" stroke=\"none\" stroke-width=\"1\"/>\n",
       "<circle cx=\"384\" cy=\"190\" r=\"3\" opacity=\"1\" fill=\"#0000FF\" stroke=\"none\" stroke-width=\"1\"/>\n",
       "<circle cx=\"339\" cy=\"190\" r=\"3\" opacity=\"1\" fill=\"#0000FF\" stroke=\"none\" stroke-width=\"1\"/>\n",
       "<circle cx=\"264\" cy=\"217\" r=\"3\" opacity=\"1\" fill=\"#0000FF\" stroke=\"none\" stroke-width=\"1\"/>\n",
       "<circle cx=\"339\" cy=\"204\" r=\"3\" opacity=\"1\" fill=\"#0000FF\" stroke=\"none\" stroke-width=\"1\"/>\n",
       "<circle cx=\"399\" cy=\"224\" r=\"3\" opacity=\"1\" fill=\"#0000FF\" stroke=\"none\" stroke-width=\"1\"/>\n",
       "<circle cx=\"339\" cy=\"244\" r=\"3\" opacity=\"1\" fill=\"#0000FF\" stroke=\"none\" stroke-width=\"1\"/>\n",
       "</svg>\n",
       "</div>"
      ]
     },
     "execution_count": 73,
     "metadata": {},
     "output_type": "execute_result"
    }
   ],
   "source": [
    "evcxr_figure((640, 480), |root| {\n",
    "    let mut chart = ChartBuilder::on(&root)\n",
    "        .caption(\"Iris Dataset\", (\"Arial\", 30).into_font())\n",
    "        .x_label_area_size(40)\n",
    "        .y_label_area_size(40)\n",
    "        .build_cartesian_2d(1f64..5f64, 3f64..9f64)?;\n",
    "    \n",
    "    chart.configure_mesh()\n",
    "        .x_desc(\"Sepal Length (cm)\")\n",
    "        .y_desc(\"Sepal Width (cm)\")\n",
    "        .draw()?;\n",
    "    \n",
    "    chart.draw_series(sepal_samples.iter().map(|(x, y)| Circle::new((*x,*y), 3, BLUE.filled())));\n",
    "\n",
    "    Ok(())\n",
    "}).style(\"width:60%\")"
   ]
  },
  {
   "cell_type": "code",
   "execution_count": null,
   "id": "448a1457-8c8c-423c-8248-534f7047d3a4",
   "metadata": {},
   "outputs": [],
   "source": []
  }
 ],
 "metadata": {
  "kernelspec": {
   "display_name": "Rust",
   "language": "rust",
   "name": "rust"
  },
  "language_info": {
   "codemirror_mode": "rust",
   "file_extension": ".rs",
   "mimetype": "text/rust",
   "name": "Rust",
   "pygment_lexer": "rust",
   "version": ""
  }
 },
 "nbformat": 4,
 "nbformat_minor": 5
}
