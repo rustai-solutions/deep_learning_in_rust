{
 "cells": [
  {
   "cell_type": "code",
   "execution_count": 2,
   "id": "cc3199cf-602c-4e22-8d4e-00ef02530e15",
   "metadata": {},
   "outputs": [
    {
     "data": {
      "text/plain": [
       "10"
      ]
     },
     "execution_count": 2,
     "metadata": {},
     "output_type": "execute_result"
    }
   ],
   "source": [
    "let a = 10u32;\n",
    "a"
   ]
  },
  {
   "cell_type": "code",
   "execution_count": 5,
   "id": "b7480812-0fbe-4c0d-b47b-5d0917e96fd7",
   "metadata": {},
   "outputs": [
    {
     "data": {
      "text/plain": [
       "Aaa { field_a: 101, field_b: 'a', field_c: \"hello, world\" }"
      ]
     },
     "execution_count": 5,
     "metadata": {},
     "output_type": "execute_result"
    }
   ],
   "source": [
    "#[derive(Debug)]\n",
    "struct Aaa {\n",
    "    field_a: u32,\n",
    "    field_b: char,\n",
    "    field_c: String,\n",
    "}\n",
    "let a = Aaa {\n",
    "    field_a: 101,\n",
    "    field_b: 'a',\n",
    "    field_c: \"hello, world\".to_string(),\n",
    "};\n",
    "a"
   ]
  },
  {
   "cell_type": "code",
   "execution_count": null,
   "id": "d6d284b3-8e3e-42b6-9aed-59699b58cd40",
   "metadata": {},
   "outputs": [],
   "source": []
  },
  {
   "cell_type": "code",
   "execution_count": null,
   "id": "ba607c64-6cc3-4c7a-a4ea-8fcd6739c015",
   "metadata": {},
   "outputs": [],
   "source": []
  }
 ],
 "metadata": {
  "kernelspec": {
   "display_name": "Rust",
   "language": "rust",
   "name": "rust"
  },
  "language_info": {
   "codemirror_mode": "rust",
   "file_extension": ".rs",
   "mimetype": "text/rust",
   "name": "Rust",
   "pygment_lexer": "rust",
   "version": ""
  }
 },
 "nbformat": 4,
 "nbformat_minor": 5
}
