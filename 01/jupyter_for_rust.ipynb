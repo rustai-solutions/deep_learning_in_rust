{
 "cells": [
  {
   "cell_type": "code",
   "execution_count": 24,
   "id": "d812706c-8ae9-4825-8545-65f2bfb513d6",
   "metadata": {},
   "outputs": [],
   "source": [
    ":dep ndarray = {version = \"0.15.6\"}\n",
    ":dep polars = {version = \"0.35.4\", features = [\"describe\", \"lazy\", \"ndarray\"]}\n",
    ":dep plotters = { version = \"0.3.5\", default_features = false, features = [\"evcxr\", \"all_series\", \"all_elements\"] }"
   ]
  },
  {
   "cell_type": "code",
   "execution_count": 25,
   "id": "bbf0779f-fe53-4a5f-8255-d1b30a562a6c",
   "metadata": {},
   "outputs": [
    {
     "data": {
      "text/plain": [
       "ndarray = {version = \"0.15.6\"}\n",
       "plotters = { version = \"0.3.5\", default_features = false, features = [\"evcxr\", \"all_series\", \"all_elements\"] }\n",
       "polars = {version = \"0.35.4\", features = [\"describe\", \"lazy\", \"ndarray\"]}\n"
      ]
     },
     "execution_count": 25,
     "metadata": {},
     "output_type": "execute_result"
    }
   ],
   "source": [
    ":show_deps"
   ]
  },
  {
   "cell_type": "code",
   "execution_count": 26,
   "id": "5bbba70b-9d3d-4d4a-86d2-9125e1baa3c6",
   "metadata": {},
   "outputs": [],
   "source": [
    "use polars::prelude::*;\n",
    "use polars::frame::DataFrame;\n",
    "use std::path::Path;"
   ]
  },
  {
   "cell_type": "code",
   "execution_count": 29,
   "id": "0edd380c-3835-41be-8b03-92fec633661d",
   "metadata": {},
   "outputs": [],
   "source": [
    "fn read_data_frame_from_csv(\n",
    "    csv_file_path: &Path,\n",
    ") -> DataFrame {\n",
    "    CsvReader::from_path(csv_file_path)\n",
    "        .expect(\"Cannot open file.\")\n",
    "        .has_header(true)\n",
    "        .finish()\n",
    "        .unwrap()\n",
    "}\n",
    "\n",
    "let titanic_file_path: &Path = Path::new(\"dataset/titanic.csv\");\n",
    "let titanic_df: DataFrame = read_data_frame_from_csv(titanic_file_path);"
   ]
  },
  {
   "cell_type": "code",
   "execution_count": 30,
   "id": "97321b7e-17a7-417a-8219-173f7e485048",
   "metadata": {},
   "outputs": [
    {
     "data": {
      "text/plain": [
       "(891, 12)"
      ]
     },
     "execution_count": 30,
     "metadata": {},
     "output_type": "execute_result"
    }
   ],
   "source": [
    "titanic_df.shape()"
   ]
  },
  {
   "cell_type": "code",
   "execution_count": 33,
   "id": "23f27656-ee4d-468a-855d-b82dcfd67c49",
   "metadata": {},
   "outputs": [
    {
     "data": {
      "text/plain": [
       "Ok(shape: (9, 13)\n",
       "┌────────────┬─────────────┬──────────┬──────────┬───┬───────────┬───────────┬───────┬──────────┐\n",
       "│ describe   ┆ PassengerId ┆ Survived ┆ Pclass   ┆ … ┆ Ticket    ┆ Fare      ┆ Cabin ┆ Embarked │\n",
       "│ ---        ┆ ---         ┆ ---      ┆ ---      ┆   ┆ ---       ┆ ---       ┆ ---   ┆ ---      │\n",
       "│ str        ┆ f64         ┆ f64      ┆ f64      ┆   ┆ str       ┆ f64       ┆ str   ┆ str      │\n",
       "╞════════════╪═════════════╪══════════╪══════════╪═══╪═══════════╪═══════════╪═══════╪══════════╡\n",
       "│ count      ┆ 891.0       ┆ 891.0    ┆ 891.0    ┆ … ┆ 891       ┆ 891.0     ┆ 891   ┆ 891      │\n",
       "│ null_count ┆ 0.0         ┆ 0.0      ┆ 0.0      ┆ … ┆ 0         ┆ 0.0       ┆ 687   ┆ 2        │\n",
       "│ mean       ┆ 446.0       ┆ 0.383838 ┆ 2.308642 ┆ … ┆ null      ┆ 32.204208 ┆ null  ┆ null     │\n",
       "│ std        ┆ 257.353842  ┆ 0.486592 ┆ 0.836071 ┆ … ┆ null      ┆ 49.693429 ┆ null  ┆ null     │\n",
       "│ min        ┆ 1.0         ┆ 0.0      ┆ 1.0      ┆ … ┆ 110152    ┆ 0.0       ┆ A10   ┆ C        │\n",
       "│ 25%        ┆ 223.5       ┆ 0.0      ┆ 2.0      ┆ … ┆ null      ┆ 7.9104    ┆ null  ┆ null     │\n",
       "│ 50%        ┆ 446.0       ┆ 0.0      ┆ 3.0      ┆ … ┆ null      ┆ 14.4542   ┆ null  ┆ null     │\n",
       "│ 75%        ┆ 668.5       ┆ 1.0      ┆ 3.0      ┆ … ┆ null      ┆ 31.0      ┆ null  ┆ null     │\n",
       "│ max        ┆ 891.0       ┆ 1.0      ┆ 3.0      ┆ … ┆ WE/P 5735 ┆ 512.3292  ┆ T     ┆ S        │\n",
       "└────────────┴─────────────┴──────────┴──────────┴───┴───────────┴───────────┴───────┴──────────┘)"
      ]
     },
     "execution_count": 33,
     "metadata": {},
     "output_type": "execute_result"
    }
   ],
   "source": [
    "titanic_df.describe(None)"
   ]
  },
  {
   "cell_type": "code",
   "execution_count": 31,
   "id": "d87af670-8a93-4674-ae8b-ef637ce068d8",
   "metadata": {},
   "outputs": [
    {
     "data": {
      "text/plain": [
       "shape: (5, 12)\n",
       "┌─────────────┬──────────┬────────┬───────────────────┬───┬───────────┬─────────┬───────┬──────────┐\n",
       "│ PassengerId ┆ Survived ┆ Pclass ┆ Name              ┆ … ┆ Ticket    ┆ Fare    ┆ Cabin ┆ Embarked │\n",
       "│ ---         ┆ ---      ┆ ---    ┆ ---               ┆   ┆ ---       ┆ ---     ┆ ---   ┆ ---      │\n",
       "│ i64         ┆ i64      ┆ i64    ┆ str               ┆   ┆ str       ┆ f64     ┆ str   ┆ str      │\n",
       "╞═════════════╪══════════╪════════╪═══════════════════╪═══╪═══════════╪═════════╪═══════╪══════════╡\n",
       "│ 1           ┆ 0        ┆ 3      ┆ Braund, Mr. Owen  ┆ … ┆ A/5 21171 ┆ 7.25    ┆ null  ┆ S        │\n",
       "│             ┆          ┆        ┆ Harris            ┆   ┆           ┆         ┆       ┆          │\n",
       "│ 2           ┆ 1        ┆ 1      ┆ Cumings, Mrs.     ┆ … ┆ PC 17599  ┆ 71.2833 ┆ C85   ┆ C        │\n",
       "│             ┆          ┆        ┆ John Bradley      ┆   ┆           ┆         ┆       ┆          │\n",
       "│             ┆          ┆        ┆ (Flor…            ┆   ┆           ┆         ┆       ┆          │\n",
       "│ 3           ┆ 1        ┆ 3      ┆ Heikkinen, Miss.  ┆ … ┆ STON/O2.  ┆ 7.925   ┆ null  ┆ S        │\n",
       "│             ┆          ┆        ┆ Laina             ┆   ┆ 3101282   ┆         ┆       ┆          │\n",
       "│ 4           ┆ 1        ┆ 1      ┆ Futrelle, Mrs.    ┆ … ┆ 113803    ┆ 53.1    ┆ C123  ┆ S        │\n",
       "│             ┆          ┆        ┆ Jacques Heath     ┆   ┆           ┆         ┆       ┆          │\n",
       "│             ┆          ┆        ┆ (Li…              ┆   ┆           ┆         ┆       ┆          │\n",
       "│ 5           ┆ 0        ┆ 3      ┆ Allen, Mr.        ┆ … ┆ 373450    ┆ 8.05    ┆ null  ┆ S        │\n",
       "│             ┆          ┆        ┆ William Henry     ┆   ┆           ┆         ┆       ┆          │\n",
       "└─────────────┴──────────┴────────┴───────────────────┴───┴───────────┴─────────┴───────┴──────────┘"
      ]
     },
     "execution_count": 31,
     "metadata": {},
     "output_type": "execute_result"
    }
   ],
   "source": [
    "titanic_df.head(Some(5))"
   ]
  },
  {
   "cell_type": "code",
   "execution_count": 34,
   "id": "22d64f57-66c9-4d73-a533-2acc8ff8fdec",
   "metadata": {},
   "outputs": [
    {
     "data": {
      "text/plain": [
       "shape: (5, 12)\n",
       "┌─────────────┬──────────┬────────┬────────────────────┬───┬────────────┬───────┬───────┬──────────┐\n",
       "│ PassengerId ┆ Survived ┆ Pclass ┆ Name               ┆ … ┆ Ticket     ┆ Fare  ┆ Cabin ┆ Embarked │\n",
       "│ ---         ┆ ---      ┆ ---    ┆ ---                ┆   ┆ ---        ┆ ---   ┆ ---   ┆ ---      │\n",
       "│ i64         ┆ i64      ┆ i64    ┆ str                ┆   ┆ str        ┆ f64   ┆ str   ┆ str      │\n",
       "╞═════════════╪══════════╪════════╪════════════════════╪═══╪════════════╪═══════╪═══════╪══════════╡\n",
       "│ 887         ┆ 0        ┆ 2      ┆ Montvila, Rev.     ┆ … ┆ 211536     ┆ 13.0  ┆ null  ┆ S        │\n",
       "│             ┆          ┆        ┆ Juozas             ┆   ┆            ┆       ┆       ┆          │\n",
       "│ 888         ┆ 1        ┆ 1      ┆ Graham, Miss.      ┆ … ┆ 112053     ┆ 30.0  ┆ B42   ┆ S        │\n",
       "│             ┆          ┆        ┆ Margaret Edith     ┆   ┆            ┆       ┆       ┆          │\n",
       "│ 889         ┆ 0        ┆ 3      ┆ Johnston, Miss.    ┆ … ┆ W./C. 6607 ┆ 23.45 ┆ null  ┆ S        │\n",
       "│             ┆          ┆        ┆ Catherine Helen …  ┆   ┆            ┆       ┆       ┆          │\n",
       "│ 890         ┆ 1        ┆ 1      ┆ Behr, Mr. Karl     ┆ … ┆ 111369     ┆ 30.0  ┆ C148  ┆ C        │\n",
       "│             ┆          ┆        ┆ Howell             ┆   ┆            ┆       ┆       ┆          │\n",
       "│ 891         ┆ 0        ┆ 3      ┆ Dooley, Mr.        ┆ … ┆ 370376     ┆ 7.75  ┆ null  ┆ Q        │\n",
       "│             ┆          ┆        ┆ Patrick            ┆   ┆            ┆       ┆       ┆          │\n",
       "└─────────────┴──────────┴────────┴────────────────────┴───┴────────────┴───────┴───────┴──────────┘"
      ]
     },
     "execution_count": 34,
     "metadata": {},
     "output_type": "execute_result"
    }
   ],
   "source": [
    "titanic_df.tail(Some(5))"
   ]
  },
  {
   "cell_type": "code",
   "execution_count": 16,
   "id": "cd5c7a75-e4e0-48c0-a5ed-fc8c5b6465a6",
   "metadata": {},
   "outputs": [
    {
     "data": {
      "text/plain": [
       "Schema:\n",
       "name: PassengerId, data type: Int64\n",
       "name: Survived, data type: Int64\n",
       "name: Pclass, data type: Int64\n",
       "name: Name, data type: String\n",
       "name: Sex, data type: String\n",
       "name: Age, data type: Float64\n",
       "name: SibSp, data type: Int64\n",
       "name: Parch, data type: Int64\n",
       "name: Ticket, data type: String\n",
       "name: Fare, data type: Float64\n",
       "name: Cabin, data type: String\n",
       "name: Embarked, data type: String\n"
      ]
     },
     "execution_count": 16,
     "metadata": {},
     "output_type": "execute_result"
    }
   ],
   "source": [
    "titanic_df.schema()"
   ]
  },
  {
   "cell_type": "code",
   "execution_count": 69,
   "id": "4cab33d0-25fd-48f2-858f-35538786fd8e",
   "metadata": {},
   "outputs": [
    {
     "data": {
      "text/plain": [
       "Ok(shape: (2, 2)\n",
       "┌──────────┬────────┐\n",
       "│ Survived ┆ counts │\n",
       "│ ---      ┆ ---    │\n",
       "│ i64      ┆ u32    │\n",
       "╞══════════╪════════╡\n",
       "│ 0        ┆ 549    │\n",
       "│ 1        ┆ 342    │\n",
       "└──────────┴────────┘)"
      ]
     },
     "execution_count": 69,
     "metadata": {},
     "output_type": "execute_result"
    }
   ],
   "source": [
    "titanic_df[\"Survived\"].value_counts(true, true)"
   ]
  },
  {
   "cell_type": "code",
   "execution_count": 90,
   "id": "e8dabe37-e678-4a7f-9de6-efe8f7957f51",
   "metadata": {},
   "outputs": [
    {
     "data": {
      "text/plain": [
       "Ok(shape: (2, 2)\n",
       "┌────────┬────────┐\n",
       "│ Sex    ┆ counts │\n",
       "│ ---    ┆ ---    │\n",
       "│ str    ┆ u32    │\n",
       "╞════════╪════════╡\n",
       "│ male   ┆ 577    │\n",
       "│ female ┆ 314    │\n",
       "└────────┴────────┘)"
      ]
     },
     "execution_count": 90,
     "metadata": {},
     "output_type": "execute_result"
    }
   ],
   "source": [
    "titanic_df[\"Sex\"].value_counts(true, true)"
   ]
  },
  {
   "cell_type": "code",
   "execution_count": 38,
   "id": "5c53b794-50f0-47f2-8062-fe58f883f6b2",
   "metadata": {},
   "outputs": [],
   "source": [
    "use plotters::prelude::*;"
   ]
  },
  {
   "cell_type": "code",
   "execution_count": 89,
   "id": "c8193d21-2d99-44f3-b3bb-d19683e4c68c",
   "metadata": {},
   "outputs": [
    {
     "data": {
      "text/html": [
       "<div style=\"width:60%\"><svg width=\"640\" height=\"480\" viewBox=\"0 0 640 480\" xmlns=\"http://www.w3.org/2000/svg\">\n",
       "<rect x=\"0\" y=\"0\" width=\"640\" height=\"480\" opacity=\"1\" fill=\"#FFFFFF\" stroke=\"none\"/>\n",
       "<text x=\"320\" y=\"5\" dy=\"0.76em\" text-anchor=\"middle\" font-family=\"Arial\" font-size=\"24.193548387096776\" opacity=\"1\" fill=\"#000000\">\n",
       "Titanic Dataset\n",
       "</text>\n",
       "<line opacity=\"0.1\" stroke=\"#000000\" stroke-width=\"1\" x1=\"189\" y1=\"439\" x2=\"189\" y2=\"35\"/>\n",
       "<line opacity=\"0.1\" stroke=\"#000000\" stroke-width=\"1\" x1=\"489\" y1=\"439\" x2=\"489\" y2=\"35\"/>\n",
       "<line opacity=\"0.1\" stroke=\"#000000\" stroke-width=\"1\" x1=\"40\" y1=\"439\" x2=\"639\" y2=\"439\"/>\n",
       "<line opacity=\"0.1\" stroke=\"#000000\" stroke-width=\"1\" x1=\"40\" y1=\"434\" x2=\"639\" y2=\"434\"/>\n",
       "<line opacity=\"0.1\" stroke=\"#000000\" stroke-width=\"1\" x1=\"40\" y1=\"429\" x2=\"639\" y2=\"429\"/>\n",
       "<line opacity=\"0.1\" stroke=\"#000000\" stroke-width=\"1\" x1=\"40\" y1=\"424\" x2=\"639\" y2=\"424\"/>\n",
       "<line opacity=\"0.1\" stroke=\"#000000\" stroke-width=\"1\" x1=\"40\" y1=\"419\" x2=\"639\" y2=\"419\"/>\n",
       "<line opacity=\"0.1\" stroke=\"#000000\" stroke-width=\"1\" x1=\"40\" y1=\"414\" x2=\"639\" y2=\"414\"/>\n",
       "<line opacity=\"0.1\" stroke=\"#000000\" stroke-width=\"1\" x1=\"40\" y1=\"409\" x2=\"639\" y2=\"409\"/>\n",
       "<line opacity=\"0.1\" stroke=\"#000000\" stroke-width=\"1\" x1=\"40\" y1=\"404\" x2=\"639\" y2=\"404\"/>\n",
       "<line opacity=\"0.1\" stroke=\"#000000\" stroke-width=\"1\" x1=\"40\" y1=\"399\" x2=\"639\" y2=\"399\"/>\n",
       "<line opacity=\"0.1\" stroke=\"#000000\" stroke-width=\"1\" x1=\"40\" y1=\"394\" x2=\"639\" y2=\"394\"/>\n",
       "<line opacity=\"0.1\" stroke=\"#000000\" stroke-width=\"1\" x1=\"40\" y1=\"389\" x2=\"639\" y2=\"389\"/>\n",
       "<line opacity=\"0.1\" stroke=\"#000000\" stroke-width=\"1\" x1=\"40\" y1=\"384\" x2=\"639\" y2=\"384\"/>\n",
       "<line opacity=\"0.1\" stroke=\"#000000\" stroke-width=\"1\" x1=\"40\" y1=\"379\" x2=\"639\" y2=\"379\"/>\n",
       "<line opacity=\"0.1\" stroke=\"#000000\" stroke-width=\"1\" x1=\"40\" y1=\"374\" x2=\"639\" y2=\"374\"/>\n",
       "<line opacity=\"0.1\" stroke=\"#000000\" stroke-width=\"1\" x1=\"40\" y1=\"369\" x2=\"639\" y2=\"369\"/>\n",
       "<line opacity=\"0.1\" stroke=\"#000000\" stroke-width=\"1\" x1=\"40\" y1=\"364\" x2=\"639\" y2=\"364\"/>\n",
       "<line opacity=\"0.1\" stroke=\"#000000\" stroke-width=\"1\" x1=\"40\" y1=\"359\" x2=\"639\" y2=\"359\"/>\n",
       "<line opacity=\"0.1\" stroke=\"#000000\" stroke-width=\"1\" x1=\"40\" y1=\"354\" x2=\"639\" y2=\"354\"/>\n",
       "<line opacity=\"0.1\" stroke=\"#000000\" stroke-width=\"1\" x1=\"40\" y1=\"349\" x2=\"639\" y2=\"349\"/>\n",
       "<line opacity=\"0.1\" stroke=\"#000000\" stroke-width=\"1\" x1=\"40\" y1=\"344\" x2=\"639\" y2=\"344\"/>\n",
       "<line opacity=\"0.1\" stroke=\"#000000\" stroke-width=\"1\" x1=\"40\" y1=\"338\" x2=\"639\" y2=\"338\"/>\n",
       "<line opacity=\"0.1\" stroke=\"#000000\" stroke-width=\"1\" x1=\"40\" y1=\"333\" x2=\"639\" y2=\"333\"/>\n",
       "<line opacity=\"0.1\" stroke=\"#000000\" stroke-width=\"1\" x1=\"40\" y1=\"328\" x2=\"639\" y2=\"328\"/>\n",
       "<line opacity=\"0.1\" stroke=\"#000000\" stroke-width=\"1\" x1=\"40\" y1=\"323\" x2=\"639\" y2=\"323\"/>\n",
       "<line opacity=\"0.1\" stroke=\"#000000\" stroke-width=\"1\" x1=\"40\" y1=\"318\" x2=\"639\" y2=\"318\"/>\n",
       "<line opacity=\"0.1\" stroke=\"#000000\" stroke-width=\"1\" x1=\"40\" y1=\"313\" x2=\"639\" y2=\"313\"/>\n",
       "<line opacity=\"0.1\" stroke=\"#000000\" stroke-width=\"1\" x1=\"40\" y1=\"308\" x2=\"639\" y2=\"308\"/>\n",
       "<line opacity=\"0.1\" stroke=\"#000000\" stroke-width=\"1\" x1=\"40\" y1=\"303\" x2=\"639\" y2=\"303\"/>\n",
       "<line opacity=\"0.1\" stroke=\"#000000\" stroke-width=\"1\" x1=\"40\" y1=\"298\" x2=\"639\" y2=\"298\"/>\n",
       "<line opacity=\"0.1\" stroke=\"#000000\" stroke-width=\"1\" x1=\"40\" y1=\"293\" x2=\"639\" y2=\"293\"/>\n",
       "<line opacity=\"0.1\" stroke=\"#000000\" stroke-width=\"1\" x1=\"40\" y1=\"288\" x2=\"639\" y2=\"288\"/>\n",
       "<line opacity=\"0.1\" stroke=\"#000000\" stroke-width=\"1\" x1=\"40\" y1=\"283\" x2=\"639\" y2=\"283\"/>\n",
       "<line opacity=\"0.1\" stroke=\"#000000\" stroke-width=\"1\" x1=\"40\" y1=\"278\" x2=\"639\" y2=\"278\"/>\n",
       "<line opacity=\"0.1\" stroke=\"#000000\" stroke-width=\"1\" x1=\"40\" y1=\"273\" x2=\"639\" y2=\"273\"/>\n",
       "<line opacity=\"0.1\" stroke=\"#000000\" stroke-width=\"1\" x1=\"40\" y1=\"268\" x2=\"639\" y2=\"268\"/>\n",
       "<line opacity=\"0.1\" stroke=\"#000000\" stroke-width=\"1\" x1=\"40\" y1=\"263\" x2=\"639\" y2=\"263\"/>\n",
       "<line opacity=\"0.1\" stroke=\"#000000\" stroke-width=\"1\" x1=\"40\" y1=\"258\" x2=\"639\" y2=\"258\"/>\n",
       "<line opacity=\"0.1\" stroke=\"#000000\" stroke-width=\"1\" x1=\"40\" y1=\"253\" x2=\"639\" y2=\"253\"/>\n",
       "<line opacity=\"0.1\" stroke=\"#000000\" stroke-width=\"1\" x1=\"40\" y1=\"248\" x2=\"639\" y2=\"248\"/>\n",
       "<line opacity=\"0.1\" stroke=\"#000000\" stroke-width=\"1\" x1=\"40\" y1=\"243\" x2=\"639\" y2=\"243\"/>\n",
       "<line opacity=\"0.1\" stroke=\"#000000\" stroke-width=\"1\" x1=\"40\" y1=\"237\" x2=\"639\" y2=\"237\"/>\n",
       "<line opacity=\"0.1\" stroke=\"#000000\" stroke-width=\"1\" x1=\"40\" y1=\"232\" x2=\"639\" y2=\"232\"/>\n",
       "<line opacity=\"0.1\" stroke=\"#000000\" stroke-width=\"1\" x1=\"40\" y1=\"227\" x2=\"639\" y2=\"227\"/>\n",
       "<line opacity=\"0.1\" stroke=\"#000000\" stroke-width=\"1\" x1=\"40\" y1=\"222\" x2=\"639\" y2=\"222\"/>\n",
       "<line opacity=\"0.1\" stroke=\"#000000\" stroke-width=\"1\" x1=\"40\" y1=\"217\" x2=\"639\" y2=\"217\"/>\n",
       "<line opacity=\"0.1\" stroke=\"#000000\" stroke-width=\"1\" x1=\"40\" y1=\"212\" x2=\"639\" y2=\"212\"/>\n",
       "<line opacity=\"0.1\" stroke=\"#000000\" stroke-width=\"1\" x1=\"40\" y1=\"207\" x2=\"639\" y2=\"207\"/>\n",
       "<line opacity=\"0.1\" stroke=\"#000000\" stroke-width=\"1\" x1=\"40\" y1=\"202\" x2=\"639\" y2=\"202\"/>\n",
       "<line opacity=\"0.1\" stroke=\"#000000\" stroke-width=\"1\" x1=\"40\" y1=\"197\" x2=\"639\" y2=\"197\"/>\n",
       "<line opacity=\"0.1\" stroke=\"#000000\" stroke-width=\"1\" x1=\"40\" y1=\"192\" x2=\"639\" y2=\"192\"/>\n",
       "<line opacity=\"0.1\" stroke=\"#000000\" stroke-width=\"1\" x1=\"40\" y1=\"187\" x2=\"639\" y2=\"187\"/>\n",
       "<line opacity=\"0.1\" stroke=\"#000000\" stroke-width=\"1\" x1=\"40\" y1=\"182\" x2=\"639\" y2=\"182\"/>\n",
       "<line opacity=\"0.1\" stroke=\"#000000\" stroke-width=\"1\" x1=\"40\" y1=\"177\" x2=\"639\" y2=\"177\"/>\n",
       "<line opacity=\"0.1\" stroke=\"#000000\" stroke-width=\"1\" x1=\"40\" y1=\"172\" x2=\"639\" y2=\"172\"/>\n",
       "<line opacity=\"0.1\" stroke=\"#000000\" stroke-width=\"1\" x1=\"40\" y1=\"167\" x2=\"639\" y2=\"167\"/>\n",
       "<line opacity=\"0.1\" stroke=\"#000000\" stroke-width=\"1\" x1=\"40\" y1=\"162\" x2=\"639\" y2=\"162\"/>\n",
       "<line opacity=\"0.1\" stroke=\"#000000\" stroke-width=\"1\" x1=\"40\" y1=\"157\" x2=\"639\" y2=\"157\"/>\n",
       "<line opacity=\"0.1\" stroke=\"#000000\" stroke-width=\"1\" x1=\"40\" y1=\"152\" x2=\"639\" y2=\"152\"/>\n",
       "<line opacity=\"0.1\" stroke=\"#000000\" stroke-width=\"1\" x1=\"40\" y1=\"147\" x2=\"639\" y2=\"147\"/>\n",
       "<line opacity=\"0.1\" stroke=\"#000000\" stroke-width=\"1\" x1=\"40\" y1=\"142\" x2=\"639\" y2=\"142\"/>\n",
       "<line opacity=\"0.1\" stroke=\"#000000\" stroke-width=\"1\" x1=\"40\" y1=\"136\" x2=\"639\" y2=\"136\"/>\n",
       "<line opacity=\"0.1\" stroke=\"#000000\" stroke-width=\"1\" x1=\"40\" y1=\"131\" x2=\"639\" y2=\"131\"/>\n",
       "<line opacity=\"0.1\" stroke=\"#000000\" stroke-width=\"1\" x1=\"40\" y1=\"126\" x2=\"639\" y2=\"126\"/>\n",
       "<line opacity=\"0.1\" stroke=\"#000000\" stroke-width=\"1\" x1=\"40\" y1=\"121\" x2=\"639\" y2=\"121\"/>\n",
       "<line opacity=\"0.1\" stroke=\"#000000\" stroke-width=\"1\" x1=\"40\" y1=\"116\" x2=\"639\" y2=\"116\"/>\n",
       "<line opacity=\"0.1\" stroke=\"#000000\" stroke-width=\"1\" x1=\"40\" y1=\"111\" x2=\"639\" y2=\"111\"/>\n",
       "<line opacity=\"0.1\" stroke=\"#000000\" stroke-width=\"1\" x1=\"40\" y1=\"106\" x2=\"639\" y2=\"106\"/>\n",
       "<line opacity=\"0.1\" stroke=\"#000000\" stroke-width=\"1\" x1=\"40\" y1=\"101\" x2=\"639\" y2=\"101\"/>\n",
       "<line opacity=\"0.1\" stroke=\"#000000\" stroke-width=\"1\" x1=\"40\" y1=\"96\" x2=\"639\" y2=\"96\"/>\n",
       "<line opacity=\"0.1\" stroke=\"#000000\" stroke-width=\"1\" x1=\"40\" y1=\"91\" x2=\"639\" y2=\"91\"/>\n",
       "<line opacity=\"0.1\" stroke=\"#000000\" stroke-width=\"1\" x1=\"40\" y1=\"86\" x2=\"639\" y2=\"86\"/>\n",
       "<line opacity=\"0.1\" stroke=\"#000000\" stroke-width=\"1\" x1=\"40\" y1=\"81\" x2=\"639\" y2=\"81\"/>\n",
       "<line opacity=\"0.1\" stroke=\"#000000\" stroke-width=\"1\" x1=\"40\" y1=\"76\" x2=\"639\" y2=\"76\"/>\n",
       "<line opacity=\"0.1\" stroke=\"#000000\" stroke-width=\"1\" x1=\"40\" y1=\"71\" x2=\"639\" y2=\"71\"/>\n",
       "<line opacity=\"0.1\" stroke=\"#000000\" stroke-width=\"1\" x1=\"40\" y1=\"66\" x2=\"639\" y2=\"66\"/>\n",
       "<line opacity=\"0.1\" stroke=\"#000000\" stroke-width=\"1\" x1=\"40\" y1=\"61\" x2=\"639\" y2=\"61\"/>\n",
       "<line opacity=\"0.1\" stroke=\"#000000\" stroke-width=\"1\" x1=\"40\" y1=\"56\" x2=\"639\" y2=\"56\"/>\n",
       "<line opacity=\"0.1\" stroke=\"#000000\" stroke-width=\"1\" x1=\"40\" y1=\"51\" x2=\"639\" y2=\"51\"/>\n",
       "<line opacity=\"0.1\" stroke=\"#000000\" stroke-width=\"1\" x1=\"40\" y1=\"46\" x2=\"639\" y2=\"46\"/>\n",
       "<line opacity=\"0.1\" stroke=\"#000000\" stroke-width=\"1\" x1=\"40\" y1=\"41\" x2=\"639\" y2=\"41\"/>\n",
       "<line opacity=\"0.1\" stroke=\"#000000\" stroke-width=\"1\" x1=\"40\" y1=\"35\" x2=\"639\" y2=\"35\"/>\n",
       "<text x=\"0\" y=\"237\" dy=\"0.76em\" text-anchor=\"middle\" font-family=\"sans-serif\" font-size=\"9.67741935483871\" opacity=\"1\" fill=\"#000000\" transform=\"rotate(270, 0, 237)\">\n",
       "Number\n",
       "</text>\n",
       "<text x=\"340\" y=\"480\" dy=\"-0.5ex\" text-anchor=\"middle\" font-family=\"sans-serif\" font-size=\"9.67741935483871\" opacity=\"1\" fill=\"#000000\">\n",
       "Survived?\n",
       "</text>\n",
       "<line opacity=\"0.2\" stroke=\"#000000\" stroke-width=\"1\" x1=\"189\" y1=\"439\" x2=\"189\" y2=\"35\"/>\n",
       "<line opacity=\"0.2\" stroke=\"#000000\" stroke-width=\"1\" x1=\"489\" y1=\"439\" x2=\"489\" y2=\"35\"/>\n",
       "<line opacity=\"0.2\" stroke=\"#000000\" stroke-width=\"1\" x1=\"40\" y1=\"439\" x2=\"639\" y2=\"439\"/>\n",
       "<line opacity=\"0.2\" stroke=\"#000000\" stroke-width=\"1\" x1=\"40\" y1=\"389\" x2=\"639\" y2=\"389\"/>\n",
       "<line opacity=\"0.2\" stroke=\"#000000\" stroke-width=\"1\" x1=\"40\" y1=\"338\" x2=\"639\" y2=\"338\"/>\n",
       "<line opacity=\"0.2\" stroke=\"#000000\" stroke-width=\"1\" x1=\"40\" y1=\"288\" x2=\"639\" y2=\"288\"/>\n",
       "<line opacity=\"0.2\" stroke=\"#000000\" stroke-width=\"1\" x1=\"40\" y1=\"237\" x2=\"639\" y2=\"237\"/>\n",
       "<line opacity=\"0.2\" stroke=\"#000000\" stroke-width=\"1\" x1=\"40\" y1=\"187\" x2=\"639\" y2=\"187\"/>\n",
       "<line opacity=\"0.2\" stroke=\"#000000\" stroke-width=\"1\" x1=\"40\" y1=\"136\" x2=\"639\" y2=\"136\"/>\n",
       "<line opacity=\"0.2\" stroke=\"#000000\" stroke-width=\"1\" x1=\"40\" y1=\"86\" x2=\"639\" y2=\"86\"/>\n",
       "<line opacity=\"0.2\" stroke=\"#000000\" stroke-width=\"1\" x1=\"40\" y1=\"35\" x2=\"639\" y2=\"35\"/>\n",
       "<polyline fill=\"none\" opacity=\"1\" stroke=\"#000000\" stroke-width=\"1\" points=\"39,35 39,439 \"/>\n",
       "<text x=\"30\" y=\"439\" dy=\"0.5ex\" text-anchor=\"end\" font-family=\"sans-serif\" font-size=\"9.67741935483871\" opacity=\"1\" fill=\"#000000\">\n",
       "0\n",
       "</text>\n",
       "<polyline fill=\"none\" opacity=\"1\" stroke=\"#000000\" stroke-width=\"1\" points=\"34,439 39,439 \"/>\n",
       "<text x=\"30\" y=\"389\" dy=\"0.5ex\" text-anchor=\"end\" font-family=\"sans-serif\" font-size=\"9.67741935483871\" opacity=\"1\" fill=\"#000000\">\n",
       "100\n",
       "</text>\n",
       "<polyline fill=\"none\" opacity=\"1\" stroke=\"#000000\" stroke-width=\"1\" points=\"34,389 39,389 \"/>\n",
       "<text x=\"30\" y=\"338\" dy=\"0.5ex\" text-anchor=\"end\" font-family=\"sans-serif\" font-size=\"9.67741935483871\" opacity=\"1\" fill=\"#000000\">\n",
       "200\n",
       "</text>\n",
       "<polyline fill=\"none\" opacity=\"1\" stroke=\"#000000\" stroke-width=\"1\" points=\"34,338 39,338 \"/>\n",
       "<text x=\"30\" y=\"288\" dy=\"0.5ex\" text-anchor=\"end\" font-family=\"sans-serif\" font-size=\"9.67741935483871\" opacity=\"1\" fill=\"#000000\">\n",
       "300\n",
       "</text>\n",
       "<polyline fill=\"none\" opacity=\"1\" stroke=\"#000000\" stroke-width=\"1\" points=\"34,288 39,288 \"/>\n",
       "<text x=\"30\" y=\"237\" dy=\"0.5ex\" text-anchor=\"end\" font-family=\"sans-serif\" font-size=\"9.67741935483871\" opacity=\"1\" fill=\"#000000\">\n",
       "400\n",
       "</text>\n",
       "<polyline fill=\"none\" opacity=\"1\" stroke=\"#000000\" stroke-width=\"1\" points=\"34,237 39,237 \"/>\n",
       "<text x=\"30\" y=\"187\" dy=\"0.5ex\" text-anchor=\"end\" font-family=\"sans-serif\" font-size=\"9.67741935483871\" opacity=\"1\" fill=\"#000000\">\n",
       "500\n",
       "</text>\n",
       "<polyline fill=\"none\" opacity=\"1\" stroke=\"#000000\" stroke-width=\"1\" points=\"34,187 39,187 \"/>\n",
       "<text x=\"30\" y=\"136\" dy=\"0.5ex\" text-anchor=\"end\" font-family=\"sans-serif\" font-size=\"9.67741935483871\" opacity=\"1\" fill=\"#000000\">\n",
       "600\n",
       "</text>\n",
       "<polyline fill=\"none\" opacity=\"1\" stroke=\"#000000\" stroke-width=\"1\" points=\"34,136 39,136 \"/>\n",
       "<text x=\"30\" y=\"86\" dy=\"0.5ex\" text-anchor=\"end\" font-family=\"sans-serif\" font-size=\"9.67741935483871\" opacity=\"1\" fill=\"#000000\">\n",
       "700\n",
       "</text>\n",
       "<polyline fill=\"none\" opacity=\"1\" stroke=\"#000000\" stroke-width=\"1\" points=\"34,86 39,86 \"/>\n",
       "<text x=\"30\" y=\"35\" dy=\"0.5ex\" text-anchor=\"end\" font-family=\"sans-serif\" font-size=\"9.67741935483871\" opacity=\"1\" fill=\"#000000\">\n",
       "800\n",
       "</text>\n",
       "<polyline fill=\"none\" opacity=\"1\" stroke=\"#000000\" stroke-width=\"1\" points=\"34,35 39,35 \"/>\n",
       "<polyline fill=\"none\" opacity=\"1\" stroke=\"#000000\" stroke-width=\"1\" points=\"40,440 639,440 \"/>\n",
       "<text x=\"189\" y=\"450\" dy=\"0.76em\" text-anchor=\"middle\" font-family=\"sans-serif\" font-size=\"9.67741935483871\" opacity=\"1\" fill=\"#000000\">\n",
       "0\n",
       "</text>\n",
       "<polyline fill=\"none\" opacity=\"1\" stroke=\"#000000\" stroke-width=\"1\" points=\"189,440 189,445 \"/>\n",
       "<text x=\"489\" y=\"450\" dy=\"0.76em\" text-anchor=\"middle\" font-family=\"sans-serif\" font-size=\"9.67741935483871\" opacity=\"1\" fill=\"#000000\">\n",
       "1\n",
       "</text>\n",
       "<polyline fill=\"none\" opacity=\"1\" stroke=\"#000000\" stroke-width=\"1\" points=\"489,440 489,445 \"/>\n",
       "<rect x=\"70\" y=\"162\" width=\"239\" height=\"277\" opacity=\"1\" fill=\"#0000FF\" stroke=\"none\"/>\n",
       "<rect x=\"369\" y=\"267\" width=\"239\" height=\"172\" opacity=\"1\" fill=\"#0000FF\" stroke=\"none\"/>\n",
       "</svg>\n",
       "</div>"
      ]
     },
     "execution_count": 89,
     "metadata": {},
     "output_type": "execute_result"
    }
   ],
   "source": [
    "evcxr_figure((640, 480), |root| {\n",
    "    let drawing_area = root;\n",
    "    drawing_area.fill(&WHITE).unwrap();\n",
    "    \n",
    "    let mut chart_context = ChartBuilder::on(&drawing_area)\n",
    "        .caption(\"Titanic Dataset\", (\"Arial\", 30).into_font())\n",
    "        .x_label_area_size(40)\n",
    "        .y_label_area_size(40)\n",
    "        // .margin(5)\n",
    "        // .set_left_and_bottom_label_area_size(20)\n",
    "        .build_cartesian_2d((0..1).into_segmented(), 0..800)?;\n",
    "    \n",
    "    chart_context.configure_mesh()\n",
    "        .x_desc(\"Survived?\")\n",
    "        .y_desc(\"Number\").draw()?;\n",
    "\n",
    "    let data_s: DataFrame = titanic_df[\"Survived\"].value_counts(true, true).unwrap().select(vec![\"counts\"]).unwrap();\n",
    "    let mut data_source = data_s.to_ndarray::<Int32Type>(IndexOrder::Fortran).unwrap().into_raw_vec().into_iter();\n",
    "    \n",
    "    chart_context.draw_series((0..).zip(data_source).map(|(x, y)| {\n",
    "        let x0 = SegmentValue::Exact(x);\n",
    "        let x1 = SegmentValue::Exact(x + 1);\n",
    "        let mut bar = Rectangle::new([(x0, 0), (x1, y)], BLUE.filled());\n",
    "        bar.set_margin(0, 0, 30, 30);\n",
    "        bar\n",
    "    }))\n",
    "    .unwrap();\n",
    "\n",
    "    Ok(())\n",
    "}).style(\"width:60%\")\n"
   ]
  },
  {
   "cell_type": "code",
   "execution_count": 91,
   "id": "78dc2b58-cb84-4af7-ab0d-2963c989f9e9",
   "metadata": {},
   "outputs": [
    {
     "name": "stdout",
     "output_type": "stream",
     "text": [
      "[[1.0, 10.0],\n",
      " [2.0, 8.0],\n",
      " [3.0, 6.0]], shape=[3, 2], strides=[1, 3], layout=Ff (0xa), const ndim=2\n"
     ]
    }
   ],
   "source": [
    "let a = UInt32Chunked::new(\"a\", &[1, 2, 3]).into_series();\n",
    "let b = Float64Chunked::new(\"b\", &[10., 8., 6.]).into_series();\n",
    "\n",
    "let df = DataFrame::new(vec![a, b]).unwrap();\n",
    "let ndarray = df.to_ndarray::<Float64Type>(IndexOrder::Fortran).unwrap();\n",
    "println!(\"{:?}\", ndarray);"
   ]
  },
  {
   "cell_type": "code",
   "execution_count": 92,
   "id": "6e2d9a5a-5958-4b2c-b3a8-623343370594",
   "metadata": {},
   "outputs": [],
   "source": [
    "use ndarray::*;"
   ]
  },
  {
   "cell_type": "code",
   "execution_count": 93,
   "id": "aee090b6-6e8b-4e86-8fdf-eeeb3fc35c82",
   "metadata": {},
   "outputs": [
    {
     "data": {
      "text/plain": [
       "[[1.0, 2.0, 3.0],\n",
       " [4.0, 5.0, 6.0]], shape=[2, 3], strides=[3, 1], layout=Cc (0x5), const ndim=2"
      ]
     },
     "execution_count": 93,
     "metadata": {},
     "output_type": "execute_result"
    }
   ],
   "source": [
    "array![[1.,2.,3.], [4.,5.,6.]]"
   ]
  },
  {
   "cell_type": "code",
   "execution_count": 26,
   "id": "76773ed6-12c7-41c7-8b92-01614088ac13",
   "metadata": {},
   "outputs": [
    {
     "data": {
      "text/plain": [
       "[[1.0, 2.0, 3.0],\n",
       " [4.0, 5.0, 6.0]], shape=[2, 3], strides=[3, 1], layout=Cc (0x5), const ndim=2"
      ]
     },
     "execution_count": 26,
     "metadata": {},
     "output_type": "execute_result"
    }
   ],
   "source": [
    "arr2(&[[1.,2.,3.], [4.,5.,6.]])"
   ]
  },
  {
   "cell_type": "code",
   "execution_count": 27,
   "id": "e349ea0b-8122-4a16-a303-3b87ac694078",
   "metadata": {},
   "outputs": [
    {
     "data": {
      "text/plain": [
       "[0.0, 0.5, 1.0, 1.5, 2.0, 2.5, 3.0, 3.5, 4.0, 4.5, 5.0, 5.5, 6.0, 6.5, 7.0, 7.5, 8.0, 8.5, 9.0, 9.5], shape=[20], strides=[1], layout=CFcf (0xf), const ndim=1"
      ]
     },
     "execution_count": 27,
     "metadata": {},
     "output_type": "execute_result"
    }
   ],
   "source": [
    "Array::range(0., 10., 0.5)"
   ]
  },
  {
   "cell_type": "code",
   "execution_count": 29,
   "id": "5f9240db-db9b-4d21-acf3-75fe3caf1645",
   "metadata": {},
   "outputs": [
    {
     "data": {
      "text/plain": [
       "[0.0, 0.5882352941176471, 1.1764705882352942, 1.7647058823529411, 2.3529411764705883, 2.9411764705882355, 3.5294117647058822, 4.11764705882353, 4.705882352941177, 5.294117647058823, 5.882352941176471, 6.470588235294118, 7.0588235294117645, 7.647058823529412, 8.23529411764706, 8.823529411764707, 9.411764705882353, 10.0], shape=[18], strides=[1], layout=CFcf (0xf), const ndim=1"
      ]
     },
     "execution_count": 29,
     "metadata": {},
     "output_type": "execute_result"
    }
   ],
   "source": [
    "Array::linspace(0., 10., 18)"
   ]
  },
  {
   "cell_type": "code",
   "execution_count": 33,
   "id": "669a46a8-8e2e-456b-beba-9331d4ca13b0",
   "metadata": {},
   "outputs": [
    {
     "data": {
      "text/plain": [
       "[[[1.0, 1.0, 1.0, 1.0, 1.0],\n",
       "  [1.0, 1.0, 1.0, 1.0, 1.0],\n",
       "  [1.0, 1.0, 1.0, 1.0, 1.0],\n",
       "  [1.0, 1.0, 1.0, 1.0, 1.0]],\n",
       "\n",
       " [[1.0, 1.0, 1.0, 1.0, 1.0],\n",
       "  [1.0, 1.0, 1.0, 1.0, 1.0],\n",
       "  [1.0, 1.0, 1.0, 1.0, 1.0],\n",
       "  [1.0, 1.0, 1.0, 1.0, 1.0]],\n",
       "\n",
       " [[1.0, 1.0, 1.0, 1.0, 1.0],\n",
       "  [1.0, 1.0, 1.0, 1.0, 1.0],\n",
       "  [1.0, 1.0, 1.0, 1.0, 1.0],\n",
       "  [1.0, 1.0, 1.0, 1.0, 1.0]]], shape=[3, 4, 5], strides=[20, 5, 1], layout=Cc (0x5), const ndim=3"
      ]
     },
     "execution_count": 33,
     "metadata": {},
     "output_type": "execute_result"
    }
   ],
   "source": [
    "Array::<f64, _>::ones((3, 4, 5))"
   ]
  },
  {
   "cell_type": "code",
   "execution_count": 34,
   "id": "b7b0e9e7-7fd0-4087-9711-455ad2308565",
   "metadata": {},
   "outputs": [
    {
     "data": {
      "text/plain": [
       "[[[0.0, 0.0, 0.0, 0.0, 0.0],\n",
       "  [0.0, 0.0, 0.0, 0.0, 0.0],\n",
       "  [0.0, 0.0, 0.0, 0.0, 0.0],\n",
       "  [0.0, 0.0, 0.0, 0.0, 0.0]],\n",
       "\n",
       " [[0.0, 0.0, 0.0, 0.0, 0.0],\n",
       "  [0.0, 0.0, 0.0, 0.0, 0.0],\n",
       "  [0.0, 0.0, 0.0, 0.0, 0.0],\n",
       "  [0.0, 0.0, 0.0, 0.0, 0.0]],\n",
       "\n",
       " [[0.0, 0.0, 0.0, 0.0, 0.0],\n",
       "  [0.0, 0.0, 0.0, 0.0, 0.0],\n",
       "  [0.0, 0.0, 0.0, 0.0, 0.0],\n",
       "  [0.0, 0.0, 0.0, 0.0, 0.0]]], shape=[3, 4, 5], strides=[20, 5, 1], layout=Cc (0x5), const ndim=3"
      ]
     },
     "execution_count": 34,
     "metadata": {},
     "output_type": "execute_result"
    }
   ],
   "source": [
    "Array::<f64, _>::zeros((3, 4, 5))"
   ]
  },
  {
   "cell_type": "code",
   "execution_count": 36,
   "id": "80303cf7-1001-4a4d-894f-4c6e59b03986",
   "metadata": {},
   "outputs": [
    {
     "data": {
      "text/plain": [
       "[[1.0, 0.0, 0.0],\n",
       " [0.0, 1.0, 0.0],\n",
       " [0.0, 0.0, 1.0]], shape=[3, 3], strides=[3, 1], layout=Cc (0x5), const ndim=2"
      ]
     },
     "execution_count": 36,
     "metadata": {},
     "output_type": "execute_result"
    }
   ],
   "source": [
    "Array::<f64, _>::eye(3)"
   ]
  },
  {
   "cell_type": "code",
   "execution_count": 97,
   "id": "7d46991a-0813-4d13-b468-f9fce3a6fec2",
   "metadata": {},
   "outputs": [],
   "source": [
    "let arr = array![[1.,2.,3.], [4.,5.,6.]];"
   ]
  },
  {
   "cell_type": "code",
   "execution_count": 42,
   "id": "8dc66d5c-fde1-48ce-a19a-2f8b70ce387a",
   "metadata": {},
   "outputs": [
    {
     "data": {
      "text/plain": [
       "6.0"
      ]
     },
     "execution_count": 42,
     "metadata": {},
     "output_type": "execute_result"
    }
   ],
   "source": [
    "arr[[1, 2]]"
   ]
  },
  {
   "cell_type": "code",
   "execution_count": 43,
   "id": "1bc4ef08-62aa-40db-a3c0-465a0f3e4322",
   "metadata": {},
   "outputs": [
    {
     "data": {
      "text/plain": [
       "[[1.0, 2.0, 3.0]], shape=[1, 3], strides=[0, 1], layout=CFcf (0xf), const ndim=2"
      ]
     },
     "execution_count": 43,
     "metadata": {},
     "output_type": "execute_result"
    }
   ],
   "source": [
    "arr.slice(s![0..1, ..])"
   ]
  },
  {
   "cell_type": "code",
   "execution_count": 44,
   "id": "8fc1d21b-a613-4600-9f14-1f0b133c1192",
   "metadata": {},
   "outputs": [
    {
     "data": {
      "text/plain": [
       "21.0"
      ]
     },
     "execution_count": 44,
     "metadata": {},
     "output_type": "execute_result"
    }
   ],
   "source": [
    "arr.sum()"
   ]
  },
  {
   "cell_type": "code",
   "execution_count": 45,
   "id": "02671685-0f99-4acc-a036-906809a58cf5",
   "metadata": {},
   "outputs": [
    {
     "data": {
      "text/plain": [
       "[5.0, 7.0, 9.0], shape=[3], strides=[1], layout=CFcf (0xf), const ndim=1"
      ]
     },
     "execution_count": 45,
     "metadata": {},
     "output_type": "execute_result"
    }
   ],
   "source": [
    "arr.sum_axis(Axis(0))"
   ]
  },
  {
   "cell_type": "code",
   "execution_count": 46,
   "id": "30d45749-23de-4d1d-8470-970ab1d6d1e2",
   "metadata": {},
   "outputs": [
    {
     "data": {
      "text/plain": [
       "[6.0, 15.0], shape=[2], strides=[1], layout=CFcf (0xf), const ndim=1"
      ]
     },
     "execution_count": 46,
     "metadata": {},
     "output_type": "execute_result"
    }
   ],
   "source": [
    "arr.sum_axis(Axis(1))"
   ]
  },
  {
   "cell_type": "code",
   "execution_count": 47,
   "id": "e30a3a06-8004-4509-925d-a9d0bdefc620",
   "metadata": {},
   "outputs": [
    {
     "data": {
      "text/plain": [
       "3.5"
      ]
     },
     "execution_count": 47,
     "metadata": {},
     "output_type": "execute_result"
    }
   ],
   "source": [
    "arr.mean().unwrap()"
   ]
  },
  {
   "cell_type": "code",
   "execution_count": 49,
   "id": "bf0f0903-1440-42e7-afc1-c1837e9ded47",
   "metadata": {},
   "outputs": [
    {
     "data": {
      "text/plain": [
       "[[1.0, 2.0, 3.0],\n",
       " [4.0, 5.0, 6.0]], shape=[2, 3], strides=[3, 1], layout=Cc (0x5), const ndim=2"
      ]
     },
     "execution_count": 49,
     "metadata": {},
     "output_type": "execute_result"
    }
   ],
   "source": [
    "arr"
   ]
  },
  {
   "cell_type": "code",
   "execution_count": 98,
   "id": "293f0828-5d63-4828-999d-db2adfc4201a",
   "metadata": {},
   "outputs": [
    {
     "data": {
      "text/plain": [
       "[[1.0, 4.0],\n",
       " [2.0, 5.0],\n",
       " [3.0, 6.0]], shape=[3, 2], strides=[1, 3], layout=Ff (0xa), const ndim=2"
      ]
     },
     "execution_count": 98,
     "metadata": {},
     "output_type": "execute_result"
    }
   ],
   "source": [
    "arr.t()"
   ]
  },
  {
   "cell_type": "code",
   "execution_count": 99,
   "id": "99af2ba4-c83a-405c-91de-4fda77459dfe",
   "metadata": {},
   "outputs": [
    {
     "data": {
      "text/plain": [
       "[[14.0, 32.0],\n",
       " [32.0, 77.0]], shape=[2, 2], strides=[2, 1], layout=Cc (0x5), const ndim=2"
      ]
     },
     "execution_count": 99,
     "metadata": {},
     "output_type": "execute_result"
    }
   ],
   "source": [
    "arr.dot(&arr.t())"
   ]
  },
  {
   "cell_type": "code",
   "execution_count": 102,
   "id": "03e7c61a-2665-412c-b8ec-b8e71241e26f",
   "metadata": {},
   "outputs": [
    {
     "data": {
      "text/plain": [
       "[[1.0, 1.4142135623730951, 1.7320508075688772],\n",
       " [2.0, 2.23606797749979, 2.449489742783178]], shape=[2, 3], strides=[3, 1], layout=Cc (0x5), const ndim=2"
      ]
     },
     "execution_count": 102,
     "metadata": {},
     "output_type": "execute_result"
    }
   ],
   "source": [
    "arr.mapv(f64::sqrt)"
   ]
  },
  {
   "cell_type": "code",
   "execution_count": 77,
   "id": "513b77b6-1cb8-4e03-925c-529c9342ffd9",
   "metadata": {},
   "outputs": [],
   "source": [
    "let a = arr2(&[[ 0f32, 1.],\n",
    "               [-1., 2.]]);"
   ]
  },
  {
   "cell_type": "code",
   "execution_count": 79,
   "id": "17ba7707-a54f-499d-bb50-0702e8aa89b6",
   "metadata": {},
   "outputs": [
    {
     "data": {
      "text/plain": [
       "[[0.0, 1.0],\n",
       " [NaN, 1.4142135]], shape=[2, 2], strides=[2, 1], layout=Cc (0x5), const ndim=2"
      ]
     },
     "execution_count": 79,
     "metadata": {},
     "output_type": "execute_result"
    }
   ],
   "source": [
    "a.mapv(f32::sqrt)"
   ]
  },
  {
   "cell_type": "code",
   "execution_count": 83,
   "id": "f742e8e4-3d94-4fef-ab4a-73c6cb137185",
   "metadata": {},
   "outputs": [
    {
     "data": {
      "text/plain": [
       "[[1.0, 1.4142135, 1.7320508],\n",
       " [2.0, 2.236068, 2.4494898]], shape=[2, 3], strides=[3, 1], layout=Cc (0x5), const ndim=2"
      ]
     },
     "execution_count": 83,
     "metadata": {},
     "output_type": "execute_result"
    }
   ],
   "source": [
    "arr.mapv(|a|f32::sqrt(a as f32))"
   ]
  }
 ],
 "metadata": {
  "kernelspec": {
   "display_name": "Rust",
   "language": "rust",
   "name": "rust"
  },
  "language_info": {
   "codemirror_mode": "rust",
   "file_extension": ".rs",
   "mimetype": "text/rust",
   "name": "Rust",
   "pygment_lexer": "rust",
   "version": ""
  }
 },
 "nbformat": 4,
 "nbformat_minor": 5
}
